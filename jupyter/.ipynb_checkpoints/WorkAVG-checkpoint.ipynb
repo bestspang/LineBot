{
 "cells": [
  {
   "cell_type": "code",
   "execution_count": 1,
   "metadata": {
    "ExecuteTime": {
     "end_time": "2019-09-09T04:54:46.594254Z",
     "start_time": "2019-09-09T04:54:45.775865Z"
    }
   },
   "outputs": [],
   "source": [
    "from oauth2client.service_account import ServiceAccountCredentials\n",
    "import gspread, pprint\n",
    "import pandas as pd\n",
    "import numpy as np\n",
    "from datetime import datetime"
   ]
  },
  {
   "cell_type": "code",
   "execution_count": 2,
   "metadata": {
    "ExecuteTime": {
     "end_time": "2019-09-09T04:54:52.306468Z",
     "start_time": "2019-09-09T04:54:52.101664Z"
    }
   },
   "outputs": [],
   "source": [
    "scope = ['https://spreadsheets.google.com/feeds','https://www.googleapis.com/auth/drive']\n",
    "creds = ServiceAccountCredentials.from_json_keyfile_name('bplinebot-3ccea59ad6d6.json', scope)\n",
    "client = gspread.authorize(creds)\n",
    "pp = pprint.PrettyPrinter()\n",
    "def get_client():\n",
    "    scope = ['https://spreadsheets.google.com/feeds','https://www.googleapis.com/auth/drive']\n",
    "    creds = ServiceAccountCredentials.from_json_keyfile_name('bplinebot-3ccea59ad6d6.json', scope)\n",
    "    client = gspread.authorize(creds)\n",
    "    return client"
   ]
  },
  {
   "cell_type": "code",
   "execution_count": 3,
   "metadata": {
    "ExecuteTime": {
     "end_time": "2019-09-09T04:55:10.838525Z",
     "start_time": "2019-09-09T04:55:10.288198Z"
    }
   },
   "outputs": [],
   "source": [
    "#sheet = client.open('AbbokIncomeAssesmentV03').get_worksheet(2)\n",
    "spread = client.open('userCheckin')"
   ]
  },
  {
   "cell_type": "code",
   "execution_count": 4,
   "metadata": {
    "ExecuteTime": {
     "end_time": "2019-09-09T04:55:12.357477Z",
     "start_time": "2019-09-09T04:55:11.490507Z"
    }
   },
   "outputs": [],
   "source": [
    "sheet = spread.worksheet('log')"
   ]
  },
  {
   "cell_type": "code",
   "execution_count": 5,
   "metadata": {
    "ExecuteTime": {
     "end_time": "2019-09-09T04:55:20.385561Z",
     "start_time": "2019-09-09T04:55:19.902912Z"
    }
   },
   "outputs": [],
   "source": [
    "list_of_lists = sheet.get_all_values()"
   ]
  },
  {
   "cell_type": "code",
   "execution_count": 6,
   "metadata": {
    "ExecuteTime": {
     "end_time": "2019-09-09T04:55:27.840392Z",
     "start_time": "2019-09-09T04:55:27.815640Z"
    }
   },
   "outputs": [
    {
     "data": {
      "text/html": [
       "<div>\n",
       "<style scoped>\n",
       "    .dataframe tbody tr th:only-of-type {\n",
       "        vertical-align: middle;\n",
       "    }\n",
       "\n",
       "    .dataframe tbody tr th {\n",
       "        vertical-align: top;\n",
       "    }\n",
       "\n",
       "    .dataframe thead th {\n",
       "        text-align: right;\n",
       "    }\n",
       "</style>\n",
       "<table border=\"1\" class=\"dataframe\">\n",
       "  <thead>\n",
       "    <tr style=\"text-align: right;\">\n",
       "      <th></th>\n",
       "      <th>ID</th>\n",
       "      <th>DATE</th>\n",
       "      <th>TIME</th>\n",
       "      <th>USER_ID</th>\n",
       "      <th>TYPE</th>\n",
       "    </tr>\n",
       "  </thead>\n",
       "  <tbody>\n",
       "    <tr>\n",
       "      <th>264</th>\n",
       "      <td>265</td>\n",
       "      <td>2019/08/01</td>\n",
       "      <td>09:52 AM</td>\n",
       "      <td>7</td>\n",
       "      <td>1</td>\n",
       "    </tr>\n",
       "    <tr>\n",
       "      <th>265</th>\n",
       "      <td>266</td>\n",
       "      <td>2019/08/01</td>\n",
       "      <td>12:07 PM</td>\n",
       "      <td>4</td>\n",
       "      <td>1</td>\n",
       "    </tr>\n",
       "    <tr>\n",
       "      <th>266</th>\n",
       "      <td>267</td>\n",
       "      <td>2019/08/01</td>\n",
       "      <td>06:45 PM</td>\n",
       "      <td>4</td>\n",
       "      <td>0</td>\n",
       "    </tr>\n",
       "    <tr>\n",
       "      <th>267</th>\n",
       "      <td>268</td>\n",
       "      <td>2019/08/01</td>\n",
       "      <td>06:50 PM</td>\n",
       "      <td>7</td>\n",
       "      <td>0</td>\n",
       "    </tr>\n",
       "    <tr>\n",
       "      <th>268</th>\n",
       "      <td>269</td>\n",
       "      <td>2019/08/02</td>\n",
       "      <td>10:01 AM</td>\n",
       "      <td>7</td>\n",
       "      <td>1</td>\n",
       "    </tr>\n",
       "  </tbody>\n",
       "</table>\n",
       "</div>"
      ],
      "text/plain": [
       "      ID        DATE      TIME USER_ID TYPE\n",
       "264  265  2019/08/01  09:52 AM       7    1\n",
       "265  266  2019/08/01  12:07 PM       4    1\n",
       "266  267  2019/08/01  06:45 PM       4    0\n",
       "267  268  2019/08/01  06:50 PM       7    0\n",
       "268  269  2019/08/02  10:01 AM       7    1"
      ]
     },
     "execution_count": 6,
     "metadata": {},
     "output_type": "execute_result"
    }
   ],
   "source": [
    "df = pd.DataFrame(list_of_lists[1:], columns = list_of_lists[0])\n",
    "df = df[pd.to_datetime(df['DATE']).dt.month == 8]#datetime.today().month\n",
    "df.head(5)"
   ]
  },
  {
   "cell_type": "code",
   "execution_count": 7,
   "metadata": {
    "ExecuteTime": {
     "end_time": "2019-09-09T04:55:33.890983Z",
     "start_time": "2019-09-09T04:55:33.798447Z"
    }
   },
   "outputs": [
    {
     "data": {
      "text/plain": [
       "(174, 4)"
      ]
     },
     "execution_count": 7,
     "metadata": {},
     "output_type": "execute_result"
    }
   ],
   "source": [
    "df['TIME'] = pd.to_datetime(df['TIME']).values.astype(np.int64)\n",
    "df['DATE'] = pd.to_datetime(df['DATE']).dt.date\n",
    "df['USER_ID'] = df['USER_ID'].astype(int)\n",
    "df['TYPE'] = df['TYPE'].astype(int)\n",
    "df = df.set_index('ID')\n",
    "df.shape"
   ]
  },
  {
   "cell_type": "code",
   "execution_count": 8,
   "metadata": {
    "ExecuteTime": {
     "end_time": "2019-09-09T04:55:43.261758Z",
     "start_time": "2019-09-09T04:55:43.255180Z"
    }
   },
   "outputs": [],
   "source": [
    "df2 = pd.DataFrame(df.groupby(['USER_ID', 'TYPE'])['TIME'].mean())"
   ]
  },
  {
   "cell_type": "code",
   "execution_count": 9,
   "metadata": {
    "ExecuteTime": {
     "end_time": "2019-09-09T04:55:52.073316Z",
     "start_time": "2019-09-09T04:55:52.059346Z"
    }
   },
   "outputs": [
    {
     "data": {
      "text/html": [
       "<div>\n",
       "<style scoped>\n",
       "    .dataframe tbody tr th:only-of-type {\n",
       "        vertical-align: middle;\n",
       "    }\n",
       "\n",
       "    .dataframe tbody tr th {\n",
       "        vertical-align: top;\n",
       "    }\n",
       "\n",
       "    .dataframe thead th {\n",
       "        text-align: right;\n",
       "    }\n",
       "</style>\n",
       "<table border=\"1\" class=\"dataframe\">\n",
       "  <thead>\n",
       "    <tr style=\"text-align: right;\">\n",
       "      <th></th>\n",
       "      <th></th>\n",
       "      <th>TIME</th>\n",
       "      <th>INOUT</th>\n",
       "    </tr>\n",
       "    <tr>\n",
       "      <th>USER_ID</th>\n",
       "      <th>TYPE</th>\n",
       "      <th></th>\n",
       "      <th></th>\n",
       "    </tr>\n",
       "  </thead>\n",
       "  <tbody>\n",
       "    <tr>\n",
       "      <th rowspan=\"2\" valign=\"top\">1</th>\n",
       "      <th>0</th>\n",
       "      <td>1568060584615384576</td>\n",
       "      <td>20:23:04.615384</td>\n",
       "    </tr>\n",
       "    <tr>\n",
       "      <th>1</th>\n",
       "      <td>1568037600000000000</td>\n",
       "      <td>14:00:00</td>\n",
       "    </tr>\n",
       "    <tr>\n",
       "      <th rowspan=\"2\" valign=\"top\">2</th>\n",
       "      <th>0</th>\n",
       "      <td>1568044226249999616</td>\n",
       "      <td>15:50:26.249999</td>\n",
       "    </tr>\n",
       "    <tr>\n",
       "      <th>1</th>\n",
       "      <td>1568026402499999744</td>\n",
       "      <td>10:53:22.499999</td>\n",
       "    </tr>\n",
       "    <tr>\n",
       "      <th rowspan=\"2\" valign=\"top\">3</th>\n",
       "      <th>0</th>\n",
       "      <td>1568051747142857216</td>\n",
       "      <td>17:55:47.142857</td>\n",
       "    </tr>\n",
       "    <tr>\n",
       "      <th>1</th>\n",
       "      <td>1568028012857142784</td>\n",
       "      <td>11:20:12.857142</td>\n",
       "    </tr>\n",
       "    <tr>\n",
       "      <th rowspan=\"2\" valign=\"top\">4</th>\n",
       "      <th>0</th>\n",
       "      <td>1568059029230769152</td>\n",
       "      <td>19:57:09.230769</td>\n",
       "    </tr>\n",
       "    <tr>\n",
       "      <th>1</th>\n",
       "      <td>1568034327692307456</td>\n",
       "      <td>13:05:27.692307</td>\n",
       "    </tr>\n",
       "    <tr>\n",
       "      <th rowspan=\"2\" valign=\"top\">7</th>\n",
       "      <th>0</th>\n",
       "      <td>1568056332631578624</td>\n",
       "      <td>19:12:12.631578</td>\n",
       "    </tr>\n",
       "    <tr>\n",
       "      <th>1</th>\n",
       "      <td>1568022221052631808</td>\n",
       "      <td>09:43:41.052631</td>\n",
       "    </tr>\n",
       "    <tr>\n",
       "      <th rowspan=\"2\" valign=\"top\">8</th>\n",
       "      <th>0</th>\n",
       "      <td>1568055160000000000</td>\n",
       "      <td>18:52:40</td>\n",
       "    </tr>\n",
       "    <tr>\n",
       "      <th>1</th>\n",
       "      <td>1568022765000000256</td>\n",
       "      <td>09:52:45</td>\n",
       "    </tr>\n",
       "  </tbody>\n",
       "</table>\n",
       "</div>"
      ],
      "text/plain": [
       "                             TIME            INOUT\n",
       "USER_ID TYPE                                      \n",
       "1       0     1568060584615384576  20:23:04.615384\n",
       "        1     1568037600000000000         14:00:00\n",
       "2       0     1568044226249999616  15:50:26.249999\n",
       "        1     1568026402499999744  10:53:22.499999\n",
       "3       0     1568051747142857216  17:55:47.142857\n",
       "        1     1568028012857142784  11:20:12.857142\n",
       "4       0     1568059029230769152  19:57:09.230769\n",
       "        1     1568034327692307456  13:05:27.692307\n",
       "7       0     1568056332631578624  19:12:12.631578\n",
       "        1     1568022221052631808  09:43:41.052631\n",
       "8       0     1568055160000000000         18:52:40\n",
       "        1     1568022765000000256         09:52:45"
      ]
     },
     "execution_count": 9,
     "metadata": {},
     "output_type": "execute_result"
    }
   ],
   "source": [
    "df2['INOUT'] = pd.to_datetime(df2['TIME']).dt.time\n",
    "df2"
   ]
  },
  {
   "cell_type": "code",
   "execution_count": 10,
   "metadata": {
    "ExecuteTime": {
     "end_time": "2019-09-09T04:56:01.043711Z",
     "start_time": "2019-09-09T04:56:01.039464Z"
    }
   },
   "outputs": [],
   "source": [
    "df2 = df2.reset_index()"
   ]
  },
  {
   "cell_type": "code",
   "execution_count": 11,
   "metadata": {
    "ExecuteTime": {
     "end_time": "2019-09-09T04:56:09.060995Z",
     "start_time": "2019-09-09T04:56:09.050670Z"
    }
   },
   "outputs": [],
   "source": [
    "w_out = df2[df2['TYPE'] == 0].reset_index().drop([\"index\",\"TYPE\"], axis=1)\n",
    "w_in = df2[df2['TYPE'] == 1].reset_index().drop([\"index\",\"TYPE\"], axis=1)"
   ]
  },
  {
   "cell_type": "code",
   "execution_count": 12,
   "metadata": {
    "ExecuteTime": {
     "end_time": "2019-09-09T04:56:16.426554Z",
     "start_time": "2019-09-09T04:56:16.415723Z"
    }
   },
   "outputs": [
    {
     "data": {
      "text/html": [
       "<div>\n",
       "<style scoped>\n",
       "    .dataframe tbody tr th:only-of-type {\n",
       "        vertical-align: middle;\n",
       "    }\n",
       "\n",
       "    .dataframe tbody tr th {\n",
       "        vertical-align: top;\n",
       "    }\n",
       "\n",
       "    .dataframe thead th {\n",
       "        text-align: right;\n",
       "    }\n",
       "</style>\n",
       "<table border=\"1\" class=\"dataframe\">\n",
       "  <thead>\n",
       "    <tr style=\"text-align: right;\">\n",
       "      <th></th>\n",
       "      <th>USER_ID</th>\n",
       "      <th>TIME</th>\n",
       "      <th>INOUT</th>\n",
       "    </tr>\n",
       "  </thead>\n",
       "  <tbody>\n",
       "    <tr>\n",
       "      <th>0</th>\n",
       "      <td>1</td>\n",
       "      <td>22984615384576</td>\n",
       "      <td>20:23:04.615384</td>\n",
       "    </tr>\n",
       "    <tr>\n",
       "      <th>1</th>\n",
       "      <td>2</td>\n",
       "      <td>17823749999872</td>\n",
       "      <td>15:50:26.249999</td>\n",
       "    </tr>\n",
       "    <tr>\n",
       "      <th>2</th>\n",
       "      <td>3</td>\n",
       "      <td>23734285714432</td>\n",
       "      <td>17:55:47.142857</td>\n",
       "    </tr>\n",
       "    <tr>\n",
       "      <th>3</th>\n",
       "      <td>4</td>\n",
       "      <td>24701538461696</td>\n",
       "      <td>19:57:09.230769</td>\n",
       "    </tr>\n",
       "    <tr>\n",
       "      <th>4</th>\n",
       "      <td>7</td>\n",
       "      <td>34111578946816</td>\n",
       "      <td>19:12:12.631578</td>\n",
       "    </tr>\n",
       "    <tr>\n",
       "      <th>5</th>\n",
       "      <td>8</td>\n",
       "      <td>32394999999744</td>\n",
       "      <td>18:52:40</td>\n",
       "    </tr>\n",
       "  </tbody>\n",
       "</table>\n",
       "</div>"
      ],
      "text/plain": [
       "   USER_ID            TIME            INOUT\n",
       "0        1  22984615384576  20:23:04.615384\n",
       "1        2  17823749999872  15:50:26.249999\n",
       "2        3  23734285714432  17:55:47.142857\n",
       "3        4  24701538461696  19:57:09.230769\n",
       "4        7  34111578946816  19:12:12.631578\n",
       "5        8  32394999999744         18:52:40"
      ]
     },
     "execution_count": 12,
     "metadata": {},
     "output_type": "execute_result"
    }
   ],
   "source": [
    "w_total = w_out.copy()\n",
    "w_total['TIME'] = w_out['TIME'] - w_in['TIME']\n",
    "w_total"
   ]
  },
  {
   "cell_type": "code",
   "execution_count": 13,
   "metadata": {
    "ExecuteTime": {
     "end_time": "2019-09-09T04:56:45.340260Z",
     "start_time": "2019-09-09T04:56:45.335953Z"
    }
   },
   "outputs": [],
   "source": [
    "w_total['TIME'] = pd.to_datetime(w_total['TIME']).dt.time"
   ]
  },
  {
   "cell_type": "code",
   "execution_count": 14,
   "metadata": {
    "ExecuteTime": {
     "end_time": "2019-09-09T04:56:45.363845Z",
     "start_time": "2019-09-09T04:56:45.354574Z"
    }
   },
   "outputs": [
    {
     "data": {
      "text/html": [
       "<div>\n",
       "<style scoped>\n",
       "    .dataframe tbody tr th:only-of-type {\n",
       "        vertical-align: middle;\n",
       "    }\n",
       "\n",
       "    .dataframe tbody tr th {\n",
       "        vertical-align: top;\n",
       "    }\n",
       "\n",
       "    .dataframe thead th {\n",
       "        text-align: right;\n",
       "    }\n",
       "</style>\n",
       "<table border=\"1\" class=\"dataframe\">\n",
       "  <thead>\n",
       "    <tr style=\"text-align: right;\">\n",
       "      <th></th>\n",
       "      <th>USER_ID</th>\n",
       "      <th>TIME</th>\n",
       "      <th>INOUT</th>\n",
       "    </tr>\n",
       "  </thead>\n",
       "  <tbody>\n",
       "    <tr>\n",
       "      <th>0</th>\n",
       "      <td>1</td>\n",
       "      <td>06:23:04.615384</td>\n",
       "      <td>20:23:04.615384</td>\n",
       "    </tr>\n",
       "    <tr>\n",
       "      <th>1</th>\n",
       "      <td>2</td>\n",
       "      <td>04:57:03.749999</td>\n",
       "      <td>15:50:26.249999</td>\n",
       "    </tr>\n",
       "    <tr>\n",
       "      <th>2</th>\n",
       "      <td>3</td>\n",
       "      <td>06:35:34.285714</td>\n",
       "      <td>17:55:47.142857</td>\n",
       "    </tr>\n",
       "    <tr>\n",
       "      <th>3</th>\n",
       "      <td>4</td>\n",
       "      <td>06:51:41.538461</td>\n",
       "      <td>19:57:09.230769</td>\n",
       "    </tr>\n",
       "    <tr>\n",
       "      <th>4</th>\n",
       "      <td>7</td>\n",
       "      <td>09:28:31.578946</td>\n",
       "      <td>19:12:12.631578</td>\n",
       "    </tr>\n",
       "    <tr>\n",
       "      <th>5</th>\n",
       "      <td>8</td>\n",
       "      <td>08:59:54.999999</td>\n",
       "      <td>18:52:40</td>\n",
       "    </tr>\n",
       "  </tbody>\n",
       "</table>\n",
       "</div>"
      ],
      "text/plain": [
       "   USER_ID             TIME            INOUT\n",
       "0        1  06:23:04.615384  20:23:04.615384\n",
       "1        2  04:57:03.749999  15:50:26.249999\n",
       "2        3  06:35:34.285714  17:55:47.142857\n",
       "3        4  06:51:41.538461  19:57:09.230769\n",
       "4        7  09:28:31.578946  19:12:12.631578\n",
       "5        8  08:59:54.999999         18:52:40"
      ]
     },
     "execution_count": 14,
     "metadata": {},
     "output_type": "execute_result"
    }
   ],
   "source": [
    "w_total"
   ]
  },
  {
   "cell_type": "code",
   "execution_count": 15,
   "metadata": {
    "ExecuteTime": {
     "end_time": "2019-09-09T04:56:54.524766Z",
     "start_time": "2019-09-09T04:56:54.517873Z"
    }
   },
   "outputs": [
    {
     "data": {
      "text/plain": [
       "'06:23:04'"
      ]
     },
     "execution_count": 15,
     "metadata": {},
     "output_type": "execute_result"
    }
   ],
   "source": [
    "w_total[w_total['USER_ID'] == 1]['TIME'].values[0].strftime(\"%H:%M:%S\")"
   ]
  },
  {
   "cell_type": "code",
   "execution_count": null,
   "metadata": {},
   "outputs": [],
   "source": []
  }
 ],
 "metadata": {
  "kernelspec": {
   "display_name": "Python 3",
   "language": "python",
   "name": "python3"
  },
  "language_info": {
   "codemirror_mode": {
    "name": "ipython",
    "version": 3
   },
   "file_extension": ".py",
   "mimetype": "text/x-python",
   "name": "python",
   "nbconvert_exporter": "python",
   "pygments_lexer": "ipython3",
   "version": "3.7.4"
  }
 },
 "nbformat": 4,
 "nbformat_minor": 2
}
