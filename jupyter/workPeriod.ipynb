{
 "cells": [
  {
   "cell_type": "code",
   "execution_count": 111,
   "metadata": {
    "ExecuteTime": {
     "end_time": "2019-08-14T11:36:49.881225Z",
     "start_time": "2019-08-14T11:36:49.877550Z"
    }
   },
   "outputs": [],
   "source": [
    "from oauth2client.service_account import ServiceAccountCredentials\n",
    "import gspread, pprint\n",
    "import pandas as pd\n",
    "import numpy as np\n",
    "from datetime import datetime"
   ]
  },
  {
   "cell_type": "code",
   "execution_count": 112,
   "metadata": {
    "ExecuteTime": {
     "end_time": "2019-08-14T11:36:50.849947Z",
     "start_time": "2019-08-14T11:36:50.255595Z"
    }
   },
   "outputs": [],
   "source": [
    "scope = ['https://spreadsheets.google.com/feeds','https://www.googleapis.com/auth/drive']\n",
    "creds = ServiceAccountCredentials.from_json_keyfile_name('bplinebot-3ccea59ad6d6.json', scope)\n",
    "client = gspread.authorize(creds)\n",
    "pp = pprint.PrettyPrinter()"
   ]
  },
  {
   "cell_type": "code",
   "execution_count": 113,
   "metadata": {
    "ExecuteTime": {
     "end_time": "2019-08-14T11:36:51.443369Z",
     "start_time": "2019-08-14T11:36:50.853091Z"
    }
   },
   "outputs": [],
   "source": [
    "#sheet = client.open('AbbokIncomeAssesmentV03').get_worksheet(2)\n",
    "spread = client.open('userCheckin')"
   ]
  },
  {
   "cell_type": "code",
   "execution_count": 114,
   "metadata": {
    "ExecuteTime": {
     "end_time": "2019-08-14T11:36:52.588253Z",
     "start_time": "2019-08-14T11:36:51.447406Z"
    }
   },
   "outputs": [
    {
     "data": {
      "text/plain": [
       "[<Worksheet 'sum' id:576946557>,\n",
       " <Worksheet 'log' id:0>,\n",
       " <Worksheet 'type' id:252782580>,\n",
       " <Worksheet 'userStatus' id:1060831238>,\n",
       " <Worksheet 'key' id:1108603979>]"
      ]
     },
     "execution_count": 114,
     "metadata": {},
     "output_type": "execute_result"
    }
   ],
   "source": [
    "spread.worksheets()"
   ]
  },
  {
   "cell_type": "code",
   "execution_count": 115,
   "metadata": {
    "ExecuteTime": {
     "end_time": "2019-08-14T11:36:53.577298Z",
     "start_time": "2019-08-14T11:36:52.822969Z"
    }
   },
   "outputs": [],
   "source": [
    "sheet = spread.worksheet('log')"
   ]
  },
  {
   "cell_type": "code",
   "execution_count": 116,
   "metadata": {
    "ExecuteTime": {
     "end_time": "2019-08-14T11:36:54.441167Z",
     "start_time": "2019-08-14T11:36:53.580467Z"
    }
   },
   "outputs": [],
   "source": [
    "list_of_lists = sheet.get_all_values()"
   ]
  },
  {
   "cell_type": "code",
   "execution_count": 117,
   "metadata": {
    "ExecuteTime": {
     "end_time": "2019-08-14T11:36:54.453677Z",
     "start_time": "2019-08-14T11:36:54.445043Z"
    }
   },
   "outputs": [],
   "source": [
    "df = pd.DataFrame(list_of_lists[1:], columns = list_of_lists[0])\n",
    "df = df[pd.to_datetime(df['DATE']).dt.month == datetime.today().month]"
   ]
  },
  {
   "cell_type": "code",
   "execution_count": 118,
   "metadata": {
    "ExecuteTime": {
     "end_time": "2019-08-14T11:36:55.966241Z",
     "start_time": "2019-08-14T11:36:54.457735Z"
    }
   },
   "outputs": [
    {
     "data": {
      "text/plain": [
       "(66, 4)"
      ]
     },
     "execution_count": 118,
     "metadata": {},
     "output_type": "execute_result"
    }
   ],
   "source": [
    "df['TIME'] = pd.to_datetime(df['TIME']).values.astype(np.int64)\n",
    "df['DATE'] = pd.to_datetime(df['DATE']).dt.date\n",
    "df['USER_ID'] = df['USER_ID'].astype(int)\n",
    "df['TYPE'] = df['TYPE'].astype(int)\n",
    "df = df.set_index('ID')\n",
    "df.head(10)\n",
    "df.shape"
   ]
  },
  {
   "cell_type": "code",
   "execution_count": 119,
   "metadata": {
    "ExecuteTime": {
     "end_time": "2019-08-14T11:36:55.974631Z",
     "start_time": "2019-08-14T11:36:55.968915Z"
    }
   },
   "outputs": [],
   "source": [
    "df2 = pd.DataFrame(df.groupby(['USER_ID', 'TYPE'])['TIME'].mean())"
   ]
  },
  {
   "cell_type": "code",
   "execution_count": 120,
   "metadata": {
    "ExecuteTime": {
     "end_time": "2019-08-14T11:36:56.287652Z",
     "start_time": "2019-08-14T11:36:56.263298Z"
    }
   },
   "outputs": [],
   "source": [
    "df2 = df2.reset_index()"
   ]
  },
  {
   "cell_type": "code",
   "execution_count": 121,
   "metadata": {
    "ExecuteTime": {
     "end_time": "2019-08-14T11:36:56.560181Z",
     "start_time": "2019-08-14T11:36:56.536574Z"
    }
   },
   "outputs": [],
   "source": [
    "w_out = df2[df2['TYPE'] == 0].reset_index().drop([\"index\",\"TYPE\"], axis=1)\n",
    "w_in = df2[df2['TYPE'] == 1].reset_index().drop([\"index\",\"TYPE\"], axis=1)"
   ]
  },
  {
   "cell_type": "code",
   "execution_count": 122,
   "metadata": {
    "ExecuteTime": {
     "end_time": "2019-08-14T11:36:56.887618Z",
     "start_time": "2019-08-14T11:36:56.854420Z"
    }
   },
   "outputs": [
    {
     "data": {
      "text/html": [
       "<div>\n",
       "<style scoped>\n",
       "    .dataframe tbody tr th:only-of-type {\n",
       "        vertical-align: middle;\n",
       "    }\n",
       "\n",
       "    .dataframe tbody tr th {\n",
       "        vertical-align: top;\n",
       "    }\n",
       "\n",
       "    .dataframe thead th {\n",
       "        text-align: right;\n",
       "    }\n",
       "</style>\n",
       "<table border=\"1\" class=\"dataframe\">\n",
       "  <thead>\n",
       "    <tr style=\"text-align: right;\">\n",
       "      <th></th>\n",
       "      <th>USER_ID</th>\n",
       "      <th>TIME</th>\n",
       "    </tr>\n",
       "  </thead>\n",
       "  <tbody>\n",
       "    <tr>\n",
       "      <th>0</th>\n",
       "      <td>1</td>\n",
       "      <td>24105000000000</td>\n",
       "    </tr>\n",
       "    <tr>\n",
       "      <th>1</th>\n",
       "      <td>2</td>\n",
       "      <td>21184285714176</td>\n",
       "    </tr>\n",
       "    <tr>\n",
       "      <th>2</th>\n",
       "      <td>3</td>\n",
       "      <td>29968000000000</td>\n",
       "    </tr>\n",
       "    <tr>\n",
       "      <th>3</th>\n",
       "      <td>4</td>\n",
       "      <td>22456000000000</td>\n",
       "    </tr>\n",
       "    <tr>\n",
       "      <th>4</th>\n",
       "      <td>7</td>\n",
       "      <td>32774166666752</td>\n",
       "    </tr>\n",
       "    <tr>\n",
       "      <th>5</th>\n",
       "      <td>8</td>\n",
       "      <td>30600000000000</td>\n",
       "    </tr>\n",
       "  </tbody>\n",
       "</table>\n",
       "</div>"
      ],
      "text/plain": [
       "   USER_ID            TIME\n",
       "0        1  24105000000000\n",
       "1        2  21184285714176\n",
       "2        3  29968000000000\n",
       "3        4  22456000000000\n",
       "4        7  32774166666752\n",
       "5        8  30600000000000"
      ]
     },
     "execution_count": 122,
     "metadata": {},
     "output_type": "execute_result"
    }
   ],
   "source": [
    "w_total = w_out.copy()\n",
    "w_total['TIME'] = w_out['TIME'] - w_in['TIME']\n",
    "w_total"
   ]
  },
  {
   "cell_type": "code",
   "execution_count": 123,
   "metadata": {
    "ExecuteTime": {
     "end_time": "2019-08-14T11:36:59.164568Z",
     "start_time": "2019-08-14T11:36:59.160147Z"
    }
   },
   "outputs": [],
   "source": [
    "w_total['TIME'] = pd.to_datetime(w_total['TIME']).dt.time"
   ]
  },
  {
   "cell_type": "code",
   "execution_count": 126,
   "metadata": {
    "ExecuteTime": {
     "end_time": "2019-08-14T11:48:17.857700Z",
     "start_time": "2019-08-14T11:48:17.840337Z"
    }
   },
   "outputs": [
    {
     "data": {
      "text/html": [
       "<div>\n",
       "<style scoped>\n",
       "    .dataframe tbody tr th:only-of-type {\n",
       "        vertical-align: middle;\n",
       "    }\n",
       "\n",
       "    .dataframe tbody tr th {\n",
       "        vertical-align: top;\n",
       "    }\n",
       "\n",
       "    .dataframe thead th {\n",
       "        text-align: right;\n",
       "    }\n",
       "</style>\n",
       "<table border=\"1\" class=\"dataframe\">\n",
       "  <thead>\n",
       "    <tr style=\"text-align: right;\">\n",
       "      <th></th>\n",
       "      <th>USER_ID</th>\n",
       "      <th>TIME</th>\n",
       "    </tr>\n",
       "  </thead>\n",
       "  <tbody>\n",
       "    <tr>\n",
       "      <th>0</th>\n",
       "      <td>1</td>\n",
       "      <td>06:41:45</td>\n",
       "    </tr>\n",
       "    <tr>\n",
       "      <th>1</th>\n",
       "      <td>2</td>\n",
       "      <td>05:53:04.285714</td>\n",
       "    </tr>\n",
       "    <tr>\n",
       "      <th>2</th>\n",
       "      <td>3</td>\n",
       "      <td>08:19:28</td>\n",
       "    </tr>\n",
       "    <tr>\n",
       "      <th>3</th>\n",
       "      <td>4</td>\n",
       "      <td>06:14:16</td>\n",
       "    </tr>\n",
       "    <tr>\n",
       "      <th>4</th>\n",
       "      <td>7</td>\n",
       "      <td>09:06:14.166666</td>\n",
       "    </tr>\n",
       "    <tr>\n",
       "      <th>5</th>\n",
       "      <td>8</td>\n",
       "      <td>08:30:00</td>\n",
       "    </tr>\n",
       "  </tbody>\n",
       "</table>\n",
       "</div>"
      ],
      "text/plain": [
       "   USER_ID             TIME\n",
       "0        1         06:41:45\n",
       "1        2  05:53:04.285714\n",
       "2        3         08:19:28\n",
       "3        4         06:14:16\n",
       "4        7  09:06:14.166666\n",
       "5        8         08:30:00"
      ]
     },
     "execution_count": 126,
     "metadata": {},
     "output_type": "execute_result"
    }
   ],
   "source": [
    "w_total"
   ]
  },
  {
   "cell_type": "code",
   "execution_count": 137,
   "metadata": {
    "ExecuteTime": {
     "end_time": "2019-08-14T11:51:20.653379Z",
     "start_time": "2019-08-14T11:51:20.634057Z"
    }
   },
   "outputs": [
    {
     "data": {
      "text/plain": [
       "'06:41:45'"
      ]
     },
     "execution_count": 137,
     "metadata": {},
     "output_type": "execute_result"
    }
   ],
   "source": [
    "w_total[w_total['USER_ID'] == 1]['TIME'].values[0].strftime(\"%H:%M:%S\")"
   ]
  },
  {
   "cell_type": "code",
   "execution_count": null,
   "metadata": {},
   "outputs": [],
   "source": []
  }
 ],
 "metadata": {
  "kernelspec": {
   "display_name": "Python 3",
   "language": "python",
   "name": "python3"
  },
  "language_info": {
   "codemirror_mode": {
    "name": "ipython",
    "version": 3
   },
   "file_extension": ".py",
   "mimetype": "text/x-python",
   "name": "python",
   "nbconvert_exporter": "python",
   "pygments_lexer": "ipython3",
   "version": "3.7.4"
  }
 },
 "nbformat": 4,
 "nbformat_minor": 2
}
