{
 "cells": [
  {
   "cell_type": "code",
   "execution_count": 35,
   "metadata": {
    "ExecuteTime": {
     "end_time": "2019-09-09T10:23:17.699163Z",
     "start_time": "2019-09-09T10:23:17.695495Z"
    }
   },
   "outputs": [],
   "source": [
    "from oauth2client.service_account import ServiceAccountCredentials\n",
    "import gspread, pprint\n",
    "import pandas as pd\n",
    "import numpy as np\n",
    "from datetime import datetime"
   ]
  },
  {
   "cell_type": "code",
   "execution_count": 36,
   "metadata": {
    "ExecuteTime": {
     "end_time": "2019-09-09T10:23:19.192520Z",
     "start_time": "2019-09-09T10:23:18.948830Z"
    }
   },
   "outputs": [],
   "source": [
    "scope = ['https://spreadsheets.google.com/feeds','https://www.googleapis.com/auth/drive']\n",
    "creds = ServiceAccountCredentials.from_json_keyfile_name('bplinebot-3ccea59ad6d6.json', scope)\n",
    "client = gspread.authorize(creds)\n",
    "pp = pprint.PrettyPrinter()\n",
    "def get_client():\n",
    "    scope = ['https://spreadsheets.google.com/feeds','https://www.googleapis.com/auth/drive']\n",
    "    creds = ServiceAccountCredentials.from_json_keyfile_name('bplinebot-3ccea59ad6d6.json', scope)\n",
    "    client = gspread.authorize(creds)\n",
    "    return client"
   ]
  },
  {
   "cell_type": "code",
   "execution_count": 37,
   "metadata": {
    "ExecuteTime": {
     "end_time": "2019-09-09T10:23:20.285052Z",
     "start_time": "2019-09-09T10:23:19.641677Z"
    }
   },
   "outputs": [],
   "source": [
    "#sheet = client.open('AbbokIncomeAssesmentV03').get_worksheet(2)\n",
    "spread = client.open('userCheckin')"
   ]
  },
  {
   "cell_type": "code",
   "execution_count": 38,
   "metadata": {
    "ExecuteTime": {
     "end_time": "2019-09-09T10:23:20.849056Z",
     "start_time": "2019-09-09T10:23:20.288071Z"
    }
   },
   "outputs": [
    {
     "data": {
      "text/plain": [
       "[<Worksheet 'sum' id:576946557>,\n",
       " <Worksheet 'log' id:0>,\n",
       " <Worksheet 'type' id:252782580>,\n",
       " <Worksheet 'userStatus' id:1060831238>,\n",
       " <Worksheet 'key' id:1108603979>]"
      ]
     },
     "execution_count": 38,
     "metadata": {},
     "output_type": "execute_result"
    }
   ],
   "source": [
    "spread.worksheets()"
   ]
  },
  {
   "cell_type": "code",
   "execution_count": 39,
   "metadata": {
    "ExecuteTime": {
     "end_time": "2019-09-09T10:23:21.310508Z",
     "start_time": "2019-09-09T10:23:20.852244Z"
    }
   },
   "outputs": [],
   "source": [
    "sheet = spread.worksheet('log')"
   ]
  },
  {
   "cell_type": "code",
   "execution_count": 40,
   "metadata": {
    "ExecuteTime": {
     "end_time": "2019-09-09T10:23:21.742773Z",
     "start_time": "2019-09-09T10:23:21.314601Z"
    }
   },
   "outputs": [],
   "source": [
    "list_of_lists = sheet.get_all_values()"
   ]
  },
  {
   "cell_type": "code",
   "execution_count": 41,
   "metadata": {
    "ExecuteTime": {
     "end_time": "2019-09-09T10:23:21.820071Z",
     "start_time": "2019-09-09T10:23:21.799790Z"
    }
   },
   "outputs": [
    {
     "data": {
      "text/html": [
       "<div>\n",
       "<style scoped>\n",
       "    .dataframe tbody tr th:only-of-type {\n",
       "        vertical-align: middle;\n",
       "    }\n",
       "\n",
       "    .dataframe tbody tr th {\n",
       "        vertical-align: top;\n",
       "    }\n",
       "\n",
       "    .dataframe thead th {\n",
       "        text-align: right;\n",
       "    }\n",
       "</style>\n",
       "<table border=\"1\" class=\"dataframe\">\n",
       "  <thead>\n",
       "    <tr style=\"text-align: right;\">\n",
       "      <th></th>\n",
       "      <th>ID</th>\n",
       "      <th>DATE</th>\n",
       "      <th>TIME</th>\n",
       "      <th>USER_ID</th>\n",
       "      <th>TYPE</th>\n",
       "    </tr>\n",
       "  </thead>\n",
       "  <tbody>\n",
       "    <tr>\n",
       "      <th>438</th>\n",
       "      <td>439</td>\n",
       "      <td>2019/09/02</td>\n",
       "      <td>09:29 AM</td>\n",
       "      <td>2</td>\n",
       "      <td>1</td>\n",
       "    </tr>\n",
       "    <tr>\n",
       "      <th>439</th>\n",
       "      <td>440</td>\n",
       "      <td>2019/09/02</td>\n",
       "      <td>09:41 AM</td>\n",
       "      <td>3</td>\n",
       "      <td>1</td>\n",
       "    </tr>\n",
       "    <tr>\n",
       "      <th>440</th>\n",
       "      <td>441</td>\n",
       "      <td>2019/09/02</td>\n",
       "      <td>09:42 AM</td>\n",
       "      <td>7</td>\n",
       "      <td>1</td>\n",
       "    </tr>\n",
       "    <tr>\n",
       "      <th>441</th>\n",
       "      <td>442</td>\n",
       "      <td>2019/09/02</td>\n",
       "      <td>10:24 AM</td>\n",
       "      <td>8</td>\n",
       "      <td>1</td>\n",
       "    </tr>\n",
       "    <tr>\n",
       "      <th>442</th>\n",
       "      <td>443</td>\n",
       "      <td>2019/09/02</td>\n",
       "      <td>12:20 PM</td>\n",
       "      <td>1</td>\n",
       "      <td>1</td>\n",
       "    </tr>\n",
       "    <tr>\n",
       "      <th>443</th>\n",
       "      <td>444</td>\n",
       "      <td>2019/09/02</td>\n",
       "      <td>12:22 PM</td>\n",
       "      <td>4</td>\n",
       "      <td>1</td>\n",
       "    </tr>\n",
       "    <tr>\n",
       "      <th>444</th>\n",
       "      <td>445</td>\n",
       "      <td>2019/09/02</td>\n",
       "      <td>07:18 PM</td>\n",
       "      <td>2</td>\n",
       "      <td>0</td>\n",
       "    </tr>\n",
       "    <tr>\n",
       "      <th>445</th>\n",
       "      <td>446</td>\n",
       "      <td>2019/09/02</td>\n",
       "      <td>07:30 PM</td>\n",
       "      <td>8</td>\n",
       "      <td>0</td>\n",
       "    </tr>\n",
       "    <tr>\n",
       "      <th>446</th>\n",
       "      <td>447</td>\n",
       "      <td>2019/09/02</td>\n",
       "      <td>07:45 PM</td>\n",
       "      <td>1</td>\n",
       "      <td>0</td>\n",
       "    </tr>\n",
       "    <tr>\n",
       "      <th>447</th>\n",
       "      <td>448</td>\n",
       "      <td>2019/09/02</td>\n",
       "      <td>07:45 PM</td>\n",
       "      <td>4</td>\n",
       "      <td>0</td>\n",
       "    </tr>\n",
       "  </tbody>\n",
       "</table>\n",
       "</div>"
      ],
      "text/plain": [
       "      ID        DATE      TIME USER_ID TYPE\n",
       "438  439  2019/09/02  09:29 AM       2    1\n",
       "439  440  2019/09/02  09:41 AM       3    1\n",
       "440  441  2019/09/02  09:42 AM       7    1\n",
       "441  442  2019/09/02  10:24 AM       8    1\n",
       "442  443  2019/09/02  12:20 PM       1    1\n",
       "443  444  2019/09/02  12:22 PM       4    1\n",
       "444  445  2019/09/02  07:18 PM       2    0\n",
       "445  446  2019/09/02  07:30 PM       8    0\n",
       "446  447  2019/09/02  07:45 PM       1    0\n",
       "447  448  2019/09/02  07:45 PM       4    0"
      ]
     },
     "execution_count": 41,
     "metadata": {},
     "output_type": "execute_result"
    }
   ],
   "source": [
    "df = pd.DataFrame(list_of_lists[1:], columns = list_of_lists[0])\n",
    "df = df[pd.to_datetime(df['DATE']).dt.month == datetime.today().month]#datetime.today().month\n",
    "df.head(10)"
   ]
  },
  {
   "cell_type": "code",
   "execution_count": 34,
   "metadata": {
    "ExecuteTime": {
     "end_time": "2019-09-09T10:21:23.444035Z",
     "start_time": "2019-09-09T10:21:23.355729Z"
    }
   },
   "outputs": [
    {
     "data": {
      "text/plain": [
       "(88, 4)"
      ]
     },
     "execution_count": 34,
     "metadata": {},
     "output_type": "execute_result"
    }
   ],
   "source": [
    "df['TIME'] = pd.to_datetime(df['TIME']).values.astype(np.int64)\n",
    "df['DATE'] = pd.to_datetime(df['DATE']).dt.date\n",
    "df['USER_ID'] = df['USER_ID'].astype(int)\n",
    "df['TYPE'] = df['TYPE'].astype(int)\n",
    "df = df.set_index('ID')\n",
    "df.shape"
   ]
  },
  {
   "cell_type": "code",
   "execution_count": 24,
   "metadata": {
    "ExecuteTime": {
     "end_time": "2019-09-09T10:19:51.109476Z",
     "start_time": "2019-09-09T10:19:51.100207Z"
    }
   },
   "outputs": [],
   "source": [
    "df2 = pd.DataFrame(df.groupby(['USER_ID', 'TYPE'])['TIME'].mean())"
   ]
  },
  {
   "cell_type": "code",
   "execution_count": 12,
   "metadata": {
    "ExecuteTime": {
     "end_time": "2019-09-09T04:51:23.466163Z",
     "start_time": "2019-09-09T04:51:23.450719Z"
    }
   },
   "outputs": [
    {
     "data": {
      "text/html": [
       "<div>\n",
       "<style scoped>\n",
       "    .dataframe tbody tr th:only-of-type {\n",
       "        vertical-align: middle;\n",
       "    }\n",
       "\n",
       "    .dataframe tbody tr th {\n",
       "        vertical-align: top;\n",
       "    }\n",
       "\n",
       "    .dataframe thead th {\n",
       "        text-align: right;\n",
       "    }\n",
       "</style>\n",
       "<table border=\"1\" class=\"dataframe\">\n",
       "  <thead>\n",
       "    <tr style=\"text-align: right;\">\n",
       "      <th></th>\n",
       "      <th></th>\n",
       "      <th>TIME</th>\n",
       "      <th>INOUT</th>\n",
       "    </tr>\n",
       "    <tr>\n",
       "      <th>USER_ID</th>\n",
       "      <th>TYPE</th>\n",
       "      <th></th>\n",
       "      <th></th>\n",
       "    </tr>\n",
       "  </thead>\n",
       "  <tbody>\n",
       "    <tr>\n",
       "      <th rowspan=\"2\" valign=\"top\">1</th>\n",
       "      <th>0</th>\n",
       "      <td>1568060584615384576</td>\n",
       "      <td>20:23:04.615384</td>\n",
       "    </tr>\n",
       "    <tr>\n",
       "      <th>1</th>\n",
       "      <td>1568037600000000000</td>\n",
       "      <td>14:00:00</td>\n",
       "    </tr>\n",
       "    <tr>\n",
       "      <th rowspan=\"2\" valign=\"top\">2</th>\n",
       "      <th>0</th>\n",
       "      <td>1568044226249999616</td>\n",
       "      <td>15:50:26.249999</td>\n",
       "    </tr>\n",
       "    <tr>\n",
       "      <th>1</th>\n",
       "      <td>1568026402499999744</td>\n",
       "      <td>10:53:22.499999</td>\n",
       "    </tr>\n",
       "    <tr>\n",
       "      <th rowspan=\"2\" valign=\"top\">3</th>\n",
       "      <th>0</th>\n",
       "      <td>1568051747142857216</td>\n",
       "      <td>17:55:47.142857</td>\n",
       "    </tr>\n",
       "    <tr>\n",
       "      <th>1</th>\n",
       "      <td>1568028012857142784</td>\n",
       "      <td>11:20:12.857142</td>\n",
       "    </tr>\n",
       "    <tr>\n",
       "      <th rowspan=\"2\" valign=\"top\">4</th>\n",
       "      <th>0</th>\n",
       "      <td>1568059029230769152</td>\n",
       "      <td>19:57:09.230769</td>\n",
       "    </tr>\n",
       "    <tr>\n",
       "      <th>1</th>\n",
       "      <td>1568034327692307456</td>\n",
       "      <td>13:05:27.692307</td>\n",
       "    </tr>\n",
       "    <tr>\n",
       "      <th rowspan=\"2\" valign=\"top\">7</th>\n",
       "      <th>0</th>\n",
       "      <td>1568056332631578624</td>\n",
       "      <td>19:12:12.631578</td>\n",
       "    </tr>\n",
       "    <tr>\n",
       "      <th>1</th>\n",
       "      <td>1568022221052631808</td>\n",
       "      <td>09:43:41.052631</td>\n",
       "    </tr>\n",
       "    <tr>\n",
       "      <th rowspan=\"2\" valign=\"top\">8</th>\n",
       "      <th>0</th>\n",
       "      <td>1568055160000000000</td>\n",
       "      <td>18:52:40</td>\n",
       "    </tr>\n",
       "    <tr>\n",
       "      <th>1</th>\n",
       "      <td>1568022765000000256</td>\n",
       "      <td>09:52:45</td>\n",
       "    </tr>\n",
       "  </tbody>\n",
       "</table>\n",
       "</div>"
      ],
      "text/plain": [
       "                             TIME            INOUT\n",
       "USER_ID TYPE                                      \n",
       "1       0     1568060584615384576  20:23:04.615384\n",
       "        1     1568037600000000000         14:00:00\n",
       "2       0     1568044226249999616  15:50:26.249999\n",
       "        1     1568026402499999744  10:53:22.499999\n",
       "3       0     1568051747142857216  17:55:47.142857\n",
       "        1     1568028012857142784  11:20:12.857142\n",
       "4       0     1568059029230769152  19:57:09.230769\n",
       "        1     1568034327692307456  13:05:27.692307\n",
       "7       0     1568056332631578624  19:12:12.631578\n",
       "        1     1568022221052631808  09:43:41.052631\n",
       "8       0     1568055160000000000         18:52:40\n",
       "        1     1568022765000000256         09:52:45"
      ]
     },
     "execution_count": 12,
     "metadata": {},
     "output_type": "execute_result"
    }
   ],
   "source": [
    "df2['INOUT'] = pd.to_datetime(df2['TIME']).dt.time\n",
    "df2"
   ]
  },
  {
   "cell_type": "code",
   "execution_count": 13,
   "metadata": {
    "ExecuteTime": {
     "end_time": "2019-09-09T04:51:25.319988Z",
     "start_time": "2019-09-09T04:51:25.314521Z"
    }
   },
   "outputs": [],
   "source": [
    "df2 = df2.reset_index()"
   ]
  },
  {
   "cell_type": "code",
   "execution_count": 14,
   "metadata": {
    "ExecuteTime": {
     "end_time": "2019-09-09T04:51:25.997035Z",
     "start_time": "2019-09-09T04:51:25.982653Z"
    }
   },
   "outputs": [],
   "source": [
    "w_out = df2[df2['TYPE'] == 0].reset_index().drop([\"index\",\"TYPE\"], axis=1)\n",
    "w_in = df2[df2['TYPE'] == 1].reset_index().drop([\"index\",\"TYPE\"], axis=1)"
   ]
  },
  {
   "cell_type": "code",
   "execution_count": 15,
   "metadata": {
    "ExecuteTime": {
     "end_time": "2019-09-09T04:51:28.217998Z",
     "start_time": "2019-09-09T04:51:28.205611Z"
    }
   },
   "outputs": [
    {
     "data": {
      "text/html": [
       "<div>\n",
       "<style scoped>\n",
       "    .dataframe tbody tr th:only-of-type {\n",
       "        vertical-align: middle;\n",
       "    }\n",
       "\n",
       "    .dataframe tbody tr th {\n",
       "        vertical-align: top;\n",
       "    }\n",
       "\n",
       "    .dataframe thead th {\n",
       "        text-align: right;\n",
       "    }\n",
       "</style>\n",
       "<table border=\"1\" class=\"dataframe\">\n",
       "  <thead>\n",
       "    <tr style=\"text-align: right;\">\n",
       "      <th></th>\n",
       "      <th>USER_ID</th>\n",
       "      <th>TIME</th>\n",
       "      <th>INOUT</th>\n",
       "    </tr>\n",
       "  </thead>\n",
       "  <tbody>\n",
       "    <tr>\n",
       "      <th>0</th>\n",
       "      <td>1</td>\n",
       "      <td>22984615384576</td>\n",
       "      <td>20:23:04.615384</td>\n",
       "    </tr>\n",
       "    <tr>\n",
       "      <th>1</th>\n",
       "      <td>2</td>\n",
       "      <td>17823749999872</td>\n",
       "      <td>15:50:26.249999</td>\n",
       "    </tr>\n",
       "    <tr>\n",
       "      <th>2</th>\n",
       "      <td>3</td>\n",
       "      <td>23734285714432</td>\n",
       "      <td>17:55:47.142857</td>\n",
       "    </tr>\n",
       "    <tr>\n",
       "      <th>3</th>\n",
       "      <td>4</td>\n",
       "      <td>24701538461696</td>\n",
       "      <td>19:57:09.230769</td>\n",
       "    </tr>\n",
       "    <tr>\n",
       "      <th>4</th>\n",
       "      <td>7</td>\n",
       "      <td>34111578946816</td>\n",
       "      <td>19:12:12.631578</td>\n",
       "    </tr>\n",
       "    <tr>\n",
       "      <th>5</th>\n",
       "      <td>8</td>\n",
       "      <td>32394999999744</td>\n",
       "      <td>18:52:40</td>\n",
       "    </tr>\n",
       "  </tbody>\n",
       "</table>\n",
       "</div>"
      ],
      "text/plain": [
       "   USER_ID            TIME            INOUT\n",
       "0        1  22984615384576  20:23:04.615384\n",
       "1        2  17823749999872  15:50:26.249999\n",
       "2        3  23734285714432  17:55:47.142857\n",
       "3        4  24701538461696  19:57:09.230769\n",
       "4        7  34111578946816  19:12:12.631578\n",
       "5        8  32394999999744         18:52:40"
      ]
     },
     "execution_count": 15,
     "metadata": {},
     "output_type": "execute_result"
    }
   ],
   "source": [
    "w_total = w_out.copy()\n",
    "w_total['TIME'] = w_out['TIME'] - w_in['TIME']\n",
    "w_total"
   ]
  },
  {
   "cell_type": "code",
   "execution_count": 57,
   "metadata": {
    "ExecuteTime": {
     "end_time": "2019-08-16T11:29:32.782753Z",
     "start_time": "2019-08-16T11:29:32.777396Z"
    }
   },
   "outputs": [],
   "source": [
    "w_total['TIME'] = pd.to_datetime(w_total['TIME']).dt.time"
   ]
  },
  {
   "cell_type": "code",
   "execution_count": 58,
   "metadata": {
    "ExecuteTime": {
     "end_time": "2019-08-16T11:29:33.914413Z",
     "start_time": "2019-08-16T11:29:33.905740Z"
    }
   },
   "outputs": [
    {
     "data": {
      "text/html": [
       "<div>\n",
       "<style scoped>\n",
       "    .dataframe tbody tr th:only-of-type {\n",
       "        vertical-align: middle;\n",
       "    }\n",
       "\n",
       "    .dataframe tbody tr th {\n",
       "        vertical-align: top;\n",
       "    }\n",
       "\n",
       "    .dataframe thead th {\n",
       "        text-align: right;\n",
       "    }\n",
       "</style>\n",
       "<table border=\"1\" class=\"dataframe\">\n",
       "  <thead>\n",
       "    <tr style=\"text-align: right;\">\n",
       "      <th></th>\n",
       "      <th>USER_ID</th>\n",
       "      <th>TIME</th>\n",
       "      <th>INOUT</th>\n",
       "    </tr>\n",
       "  </thead>\n",
       "  <tbody>\n",
       "    <tr>\n",
       "      <th>0</th>\n",
       "      <td>1</td>\n",
       "      <td>06:36:58</td>\n",
       "      <td>19:58:48</td>\n",
       "    </tr>\n",
       "    <tr>\n",
       "      <th>1</th>\n",
       "      <td>2</td>\n",
       "      <td>06:49:54</td>\n",
       "      <td>17:46:48</td>\n",
       "    </tr>\n",
       "    <tr>\n",
       "      <th>2</th>\n",
       "      <td>3</td>\n",
       "      <td>09:35:37.500000</td>\n",
       "      <td>20:14:00</td>\n",
       "    </tr>\n",
       "    <tr>\n",
       "      <th>3</th>\n",
       "      <td>4</td>\n",
       "      <td>06:11:22.500000</td>\n",
       "      <td>19:10:00</td>\n",
       "    </tr>\n",
       "    <tr>\n",
       "      <th>4</th>\n",
       "      <td>7</td>\n",
       "      <td>09:21:03.818181</td>\n",
       "      <td>19:07:42</td>\n",
       "    </tr>\n",
       "    <tr>\n",
       "      <th>5</th>\n",
       "      <td>8</td>\n",
       "      <td>08:54:45</td>\n",
       "      <td>18:36:00</td>\n",
       "    </tr>\n",
       "  </tbody>\n",
       "</table>\n",
       "</div>"
      ],
      "text/plain": [
       "   USER_ID             TIME     INOUT\n",
       "0        1         06:36:58  19:58:48\n",
       "1        2         06:49:54  17:46:48\n",
       "2        3  09:35:37.500000  20:14:00\n",
       "3        4  06:11:22.500000  19:10:00\n",
       "4        7  09:21:03.818181  19:07:42\n",
       "5        8         08:54:45  18:36:00"
      ]
     },
     "execution_count": 58,
     "metadata": {},
     "output_type": "execute_result"
    }
   ],
   "source": [
    "w_total"
   ]
  },
  {
   "cell_type": "code",
   "execution_count": 59,
   "metadata": {
    "ExecuteTime": {
     "end_time": "2019-08-16T11:29:34.836223Z",
     "start_time": "2019-08-16T11:29:34.829250Z"
    }
   },
   "outputs": [
    {
     "data": {
      "text/plain": [
       "'06:36:58'"
      ]
     },
     "execution_count": 59,
     "metadata": {},
     "output_type": "execute_result"
    }
   ],
   "source": [
    "w_total[w_total['USER_ID'] == 1]['TIME'].values[0].strftime(\"%H:%M:%S\")"
   ]
  },
  {
   "cell_type": "code",
   "execution_count": 60,
   "metadata": {
    "ExecuteTime": {
     "end_time": "2019-08-16T11:29:35.223323Z",
     "start_time": "2019-08-16T11:29:35.218147Z"
    }
   },
   "outputs": [],
   "source": [
    "import numpy as np\n",
    "import pandas as pd\n",
    "import matplotlib.pyplot as plt\n",
    "import seaborn as sb\n",
    "%matplotlib inline"
   ]
  },
  {
   "cell_type": "code",
   "execution_count": 61,
   "metadata": {
    "ExecuteTime": {
     "end_time": "2019-08-16T11:29:36.149637Z",
     "start_time": "2019-08-16T11:29:35.917160Z"
    }
   },
   "outputs": [
    {
     "data": {
      "image/png": "[encoded data removed]",
      "text/plain": [
       "<Figure size 432x288 with 1 Axes>"
      ]
     },
     "metadata": {
      "needs_background": "light"
     },
     "output_type": "display_data"
    }
   ],
   "source": [
    "base_color = sb.color_palette()[0]\n",
    "sb.scatterplot(data = w_total, y = 'TIME', x='USER_ID', color = base_color);"
   ]
  },
  {
   "cell_type": "code",
   "execution_count": 17,
   "metadata": {
    "ExecuteTime": {
     "end_time": "2019-08-26T05:52:09.172455Z",
     "start_time": "2019-08-26T05:52:09.161987Z"
    }
   },
   "outputs": [],
   "source": [
    "def get_user_key(approve=True, check_is_in=False, isw='out'):\n",
    "    client = get_client()\n",
    "    sheet = client.open('userCheckin').worksheet('userStatus')\n",
    "    user_id = sheet.col_values(2)[1:]\n",
    "    is_approve = sheet.col_values(6)[1:]\n",
    "    is_in = sheet.col_values(4)[1:]\n",
    "    is_in = [int(i) for i in is_in]\n",
    "    is_approve = [1 if i == 'APPROVE' else 0 for i in is_approve]\n",
    "    approve_mem = [id for id, i in zip(user_id, is_approve) if i == 1]\n",
    "\n",
    "    if approve is False:\n",
    "        print('1')\n",
    "        return user_id\n",
    "    else:\n",
    "        if check_is_in:\n",
    "            if isw == 'out':\n",
    "                out_mem = [id for id, i in zip(user_id, is_in) if i == 0]\n",
    "                print('2')\n",
    "                return out_mem\n",
    "            if isw == 'in':\n",
    "                in_mem = [id for id, i in zip(user_id, is_in) if i == 1]\n",
    "                print('3')\n",
    "                return in_mem\n",
    "            print('4')\n",
    "        return approve_mem"
   ]
  },
  {
   "cell_type": "code",
   "execution_count": 21,
   "metadata": {
    "ExecuteTime": {
     "end_time": "2019-08-26T05:53:27.456207Z",
     "start_time": "2019-08-26T05:53:24.865231Z"
    }
   },
   "outputs": [
    {
     "name": "stdout",
     "output_type": "stream",
     "text": [
      "3\n"
     ]
    },
    {
     "data": {
      "text/plain": [
       "['U7612d77bbca83f04d6acf5e27333edeb',\n",
       " 'U262184d96cc22dfb837493e3ff6ca85a',\n",
       " 'Ub4cd6bb2dc9548dd416a35e5b7488c09',\n",
       " 'Ube7c6d3358f6994218ffb623d4d8a06e',\n",
       " 'U5ac4ec185e02185b6eae0d54d56f7d10']"
      ]
     },
     "execution_count": 21,
     "metadata": {},
     "output_type": "execute_result"
    }
   ],
   "source": [
    "get_user_key(check_is_in=True, isw='in')"
   ]
  },
  {
   "cell_type": "code",
   "execution_count": 19,
   "metadata": {
    "ExecuteTime": {
     "end_time": "2019-08-26T05:52:16.307324Z",
     "start_time": "2019-08-26T05:52:13.146279Z"
    }
   },
   "outputs": [
    {
     "name": "stdout",
     "output_type": "stream",
     "text": [
      "U7612d77bbca83f04d6acf5e27333edeb\n",
      "U262184d96cc22dfb837493e3ff6ca85a\n",
      "U03fe1d43c072db5c3dde2f2a20fddcb9\n",
      "Ub4cd6bb2dc9548dd416a35e5b7488c09\n",
      "Ube7c6d3358f6994218ffb623d4d8a06e\n",
      "U5ac4ec185e02185b6eae0d54d56f7d10\n"
     ]
    }
   ],
   "source": [
    "for i in get_user_key():\n",
    "    print(i)"
   ]
  },
  {
   "cell_type": "code",
   "execution_count": 17,
   "metadata": {
    "ExecuteTime": {
     "end_time": "2019-08-19T11:39:42.883027Z",
     "start_time": "2019-08-19T11:39:42.878784Z"
    }
   },
   "outputs": [
    {
     "data": {
      "text/plain": [
       "True"
      ]
     },
     "execution_count": 17,
     "metadata": {},
     "output_type": "execute_result"
    }
   ],
   "source": [
    "'!ct sfasfasfad'.startswith('!ct ')"
   ]
  },
  {
   "cell_type": "code",
   "execution_count": 19,
   "metadata": {
    "ExecuteTime": {
     "end_time": "2019-09-04T05:55:26.852797Z",
     "start_time": "2019-09-04T05:55:23.538512Z"
    }
   },
   "outputs": [],
   "source": [
    "client = get_client()\n",
    "sheet = client.open('userCheckin').worksheet('userStatus')\n",
    "user_id = sheet.col_values(2)[1:]\n",
    "user_name = sheet.col_values(3)[1:]\n",
    "is_in = sheet.col_values(4)[1:]\n",
    "is_inR = [u for i, u in zip(is_in, user_id) if i == '1']\n",
    "user_in = [y for i, y in zip(is_in, user_name) if i == '1']\n"
   ]
  },
  {
   "cell_type": "code",
   "execution_count": 21,
   "metadata": {
    "ExecuteTime": {
     "end_time": "2019-09-04T05:55:36.971579Z",
     "start_time": "2019-09-04T05:55:36.967113Z"
    }
   },
   "outputs": [
    {
     "data": {
      "text/plain": [
       "['TAAN', 'SNOOK', 'TOEY', 'NUT', 'JOEY']"
      ]
     },
     "execution_count": 21,
     "metadata": {},
     "output_type": "execute_result"
    }
   ],
   "source": [
    "user_in"
   ]
  },
  {
   "cell_type": "code",
   "execution_count": 18,
   "metadata": {
    "ExecuteTime": {
     "end_time": "2019-09-04T05:53:17.678548Z",
     "start_time": "2019-09-04T05:53:17.674870Z"
    }
   },
   "outputs": [
    {
     "name": "stdout",
     "output_type": "stream",
     "text": [
      "U262184d96cc22dfb837493e3ff6ca85a BEST\n",
      "U03fe1d43c072db5c3dde2f2a20fddcb9 TAAN\n",
      "Ube7c6d3358f6994218ffb623d4d8a06e SNOOK\n",
      "U5ac4ec185e02185b6eae0d54d56f7d10 TEAM\n",
      "U99cc103c604322964f2d16dd8cb52d8c BAM\n"
     ]
    }
   ],
   "source": [
    "for i, v in zip(is_in, user_name):\n",
    "    print(i, v)"
   ]
  },
  {
   "cell_type": "code",
   "execution_count": null,
   "metadata": {},
   "outputs": [],
   "source": [
    "scope = ['https://spreadsheets.google.com/feeds','https://www.googleapis.com/auth/drive', 'https://www.googleapis.com/auth/dialogflow']\n",
    "creds = ServiceAccountCredentials.from_json_keyfile_name('bplinebot-3ccea59ad6d6.json', scope)"
   ]
  },
  {
   "cell_type": "code",
   "execution_count": 2,
   "metadata": {
    "ExecuteTime": {
     "end_time": "2019-09-04T11:05:45.700213Z",
     "start_time": "2019-09-04T11:05:45.691489Z"
    }
   },
   "outputs": [],
   "source": [
    "def detect_intent_texts(project_id, session_id, texts, language_code):\n",
    "    \"\"\"Returns the result of detect intent with texts as inputs.\n",
    "\n",
    "    Using the same `session_id` between requests allows continuation\n",
    "    of the conversation.\"\"\"\n",
    "\n",
    "    import dialogflow_v2 as dialogflow\n",
    "    session_client = dialogflow.SessionsClient()\n",
    "\n",
    "    session = session_client.session_path(project_id, session_id)\n",
    "    print('Session path: {}\\n'.format(session))\n",
    "\n",
    "    for text in texts:\n",
    "        text_input = dialogflow.types.TextInput(\n",
    "            text=text, language_code=language_code)\n",
    "\n",
    "        query_input = dialogflow.types.QueryInput(text=text_input)\n",
    "\n",
    "        response = session_client.detect_intent(\n",
    "            session=session, query_input=query_input)\n",
    "\n",
    "        print('=' * 20)\n",
    "        print('Query text: {}'.format(response.query_result.query_text))\n",
    "        print('Detected intent: {} (confidence: {})\\n'.format(\n",
    "            response.query_result.intent.display_name,\n",
    "            response.query_result.intent_detection_confidence))\n",
    "        print('Fulfillment text: {}\\n'.format(\n",
    "            response.query_result.fulfillment_text))"
   ]
  },
  {
   "cell_type": "code",
   "execution_count": 2,
   "metadata": {
    "ExecuteTime": {
     "end_time": "2019-09-04T11:06:31.293350Z",
     "start_time": "2019-09-04T11:06:31.285754Z"
    }
   },
   "outputs": [
    {
     "ename": "NameError",
     "evalue": "name 'detect_intent_texts' is not defined",
     "output_type": "error",
     "traceback": [
      "\u001b[0;31m---------------------------------------------------------------------------\u001b[0m",
      "\u001b[0;31mNameError\u001b[0m                                 Traceback (most recent call last)",
      "\u001b[0;32m<ipython-input-2-89b73aaed869>\u001b[0m in \u001b[0;36m<module>\u001b[0;34m\u001b[0m\n\u001b[1;32m      1\u001b[0m \u001b[0mproject_id\u001b[0m \u001b[0;34m=\u001b[0m \u001b[0;34m'bplinebot'\u001b[0m\u001b[0;34m\u001b[0m\u001b[0;34m\u001b[0m\u001b[0m\n\u001b[1;32m      2\u001b[0m \u001b[0mmessage\u001b[0m \u001b[0;34m=\u001b[0m \u001b[0;34m'สวัสดี'\u001b[0m\u001b[0;34m\u001b[0m\u001b[0;34m\u001b[0m\u001b[0m\n\u001b[0;32m----> 3\u001b[0;31m \u001b[0mfulfillment_text\u001b[0m \u001b[0;34m=\u001b[0m \u001b[0mdetect_intent_texts\u001b[0m\u001b[0;34m(\u001b[0m\u001b[0mproject_id\u001b[0m\u001b[0;34m,\u001b[0m \u001b[0;34m\"unique\"\u001b[0m\u001b[0;34m,\u001b[0m \u001b[0mmessage\u001b[0m\u001b[0;34m,\u001b[0m \u001b[0;34m'th'\u001b[0m\u001b[0;34m)\u001b[0m\u001b[0;34m\u001b[0m\u001b[0;34m\u001b[0m\u001b[0m\n\u001b[0m",
      "\u001b[0;31mNameError\u001b[0m: name 'detect_intent_texts' is not defined"
     ]
    }
   ],
   "source": [
    "project_id = 'bplinebot'\n",
    "message = 'สวัสดี'\n",
    "fulfillment_text = detect_intent_texts(project_id, \"unique\", message, 'th')"
   ]
  },
  {
   "cell_type": "code",
   "execution_count": 1,
   "metadata": {
    "ExecuteTime": {
     "end_time": "2019-09-04T11:06:28.816036Z",
     "start_time": "2019-09-04T11:06:28.709863Z"
    }
   },
   "outputs": [
    {
     "ename": "ModuleNotFoundError",
     "evalue": "No module named 'dialogflow'",
     "output_type": "error",
     "traceback": [
      "\u001b[0;31m---------------------------------------------------------------------------\u001b[0m",
      "\u001b[0;31mModuleNotFoundError\u001b[0m                       Traceback (most recent call last)",
      "\u001b[0;32m<ipython-input-1-29445e4f66b7>\u001b[0m in \u001b[0;36m<module>\u001b[0;34m\u001b[0m\n\u001b[0;32m----> 1\u001b[0;31m \u001b[0;32mimport\u001b[0m \u001b[0mdialogflow\u001b[0m\u001b[0;34m\u001b[0m\u001b[0;34m\u001b[0m\u001b[0m\n\u001b[0m",
      "\u001b[0;31mModuleNotFoundError\u001b[0m: No module named 'dialogflow'"
     ]
    }
   ],
   "source": [
    "import dialogflow"
   ]
  },
  {
   "cell_type": "code",
   "execution_count": null,
   "metadata": {},
   "outputs": [],
   "source": []
  }
 ],
 "metadata": {
  "kernelspec": {
   "display_name": "Python 3",
   "language": "python",
   "name": "python3"
  },
  "language_info": {
   "codemirror_mode": {
    "name": "ipython",
    "version": 3
   },
   "file_extension": ".py",
   "mimetype": "text/x-python",
   "name": "python",
   "nbconvert_exporter": "python",
   "pygments_lexer": "ipython3",
   "version": "3.7.4"
  }
 },
 "nbformat": 4,
 "nbformat_minor": 2
}
