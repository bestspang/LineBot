{
 "cells": [
  {
   "cell_type": "code",
   "execution_count": 1,
   "metadata": {
    "ExecuteTime": {
     "end_time": "2019-09-04T05:46:14.447956Z",
     "start_time": "2019-09-04T05:46:13.322525Z"
    }
   },
   "outputs": [],
   "source": [
    "from oauth2client.service_account import ServiceAccountCredentials\n",
    "import gspread, pprint\n",
    "import pandas as pd\n",
    "import numpy as np\n",
    "from datetime import datetime"
   ]
  },
  {
   "cell_type": "code",
   "execution_count": 2,
   "metadata": {
    "ExecuteTime": {
     "end_time": "2019-09-04T05:46:17.529628Z",
     "start_time": "2019-09-04T05:46:17.040885Z"
    }
   },
   "outputs": [],
   "source": [
    "scope = ['https://spreadsheets.google.com/feeds','https://www.googleapis.com/auth/drive']\n",
    "creds = ServiceAccountCredentials.from_json_keyfile_name('bplinebot-3ccea59ad6d6.json', scope)\n",
    "client = gspread.authorize(creds)\n",
    "pp = pprint.PrettyPrinter()\n",
    "def get_client():\n",
    "    scope = ['https://spreadsheets.google.com/feeds','https://www.googleapis.com/auth/drive']\n",
    "    creds = ServiceAccountCredentials.from_json_keyfile_name('bplinebot-3ccea59ad6d6.json', scope)\n",
    "    client = gspread.authorize(creds)\n",
    "    return client"
   ]
  },
  {
   "cell_type": "code",
   "execution_count": 3,
   "metadata": {
    "ExecuteTime": {
     "end_time": "2019-08-16T11:18:07.221966Z",
     "start_time": "2019-08-16T11:18:06.676311Z"
    }
   },
   "outputs": [],
   "source": [
    "#sheet = client.open('AbbokIncomeAssesmentV03').get_worksheet(2)\n",
    "spread = client.open('userCheckin')"
   ]
  },
  {
   "cell_type": "code",
   "execution_count": 4,
   "metadata": {
    "ExecuteTime": {
     "end_time": "2019-08-16T11:18:08.960488Z",
     "start_time": "2019-08-16T11:18:07.225214Z"
    }
   },
   "outputs": [
    {
     "data": {
      "text/plain": [
       "[<Worksheet 'sum' id:576946557>,\n",
       " <Worksheet 'log' id:0>,\n",
       " <Worksheet 'type' id:252782580>,\n",
       " <Worksheet 'userStatus' id:1060831238>,\n",
       " <Worksheet 'key' id:1108603979>]"
      ]
     },
     "execution_count": 4,
     "metadata": {},
     "output_type": "execute_result"
    }
   ],
   "source": [
    "spread.worksheets()"
   ]
  },
  {
   "cell_type": "code",
   "execution_count": 5,
   "metadata": {
    "ExecuteTime": {
     "end_time": "2019-08-16T11:18:09.911706Z",
     "start_time": "2019-08-16T11:18:08.963465Z"
    }
   },
   "outputs": [],
   "source": [
    "sheet = spread.worksheet('log')"
   ]
  },
  {
   "cell_type": "code",
   "execution_count": 6,
   "metadata": {
    "ExecuteTime": {
     "end_time": "2019-08-16T11:18:10.905460Z",
     "start_time": "2019-08-16T11:18:09.914799Z"
    }
   },
   "outputs": [],
   "source": [
    "list_of_lists = sheet.get_all_values()"
   ]
  },
  {
   "cell_type": "code",
   "execution_count": 50,
   "metadata": {
    "ExecuteTime": {
     "end_time": "2019-08-16T11:29:29.780376Z",
     "start_time": "2019-08-16T11:29:29.762935Z"
    }
   },
   "outputs": [
    {
     "data": {
      "text/html": [
       "<div>\n",
       "<style scoped>\n",
       "    .dataframe tbody tr th:only-of-type {\n",
       "        vertical-align: middle;\n",
       "    }\n",
       "\n",
       "    .dataframe tbody tr th {\n",
       "        vertical-align: top;\n",
       "    }\n",
       "\n",
       "    .dataframe thead th {\n",
       "        text-align: right;\n",
       "    }\n",
       "</style>\n",
       "<table border=\"1\" class=\"dataframe\">\n",
       "  <thead>\n",
       "    <tr style=\"text-align: right;\">\n",
       "      <th></th>\n",
       "      <th>ID</th>\n",
       "      <th>DATE</th>\n",
       "      <th>TIME</th>\n",
       "      <th>USER_ID</th>\n",
       "      <th>TYPE</th>\n",
       "    </tr>\n",
       "  </thead>\n",
       "  <tbody>\n",
       "    <tr>\n",
       "      <th>264</th>\n",
       "      <td>265</td>\n",
       "      <td>2019/08/01</td>\n",
       "      <td>09:52 AM</td>\n",
       "      <td>7</td>\n",
       "      <td>1</td>\n",
       "    </tr>\n",
       "    <tr>\n",
       "      <th>265</th>\n",
       "      <td>266</td>\n",
       "      <td>2019/08/01</td>\n",
       "      <td>12:07 PM</td>\n",
       "      <td>4</td>\n",
       "      <td>1</td>\n",
       "    </tr>\n",
       "    <tr>\n",
       "      <th>266</th>\n",
       "      <td>267</td>\n",
       "      <td>2019/08/01</td>\n",
       "      <td>06:45 PM</td>\n",
       "      <td>4</td>\n",
       "      <td>0</td>\n",
       "    </tr>\n",
       "    <tr>\n",
       "      <th>267</th>\n",
       "      <td>268</td>\n",
       "      <td>2019/08/01</td>\n",
       "      <td>06:50 PM</td>\n",
       "      <td>7</td>\n",
       "      <td>0</td>\n",
       "    </tr>\n",
       "    <tr>\n",
       "      <th>268</th>\n",
       "      <td>269</td>\n",
       "      <td>2019/08/02</td>\n",
       "      <td>10:01 AM</td>\n",
       "      <td>7</td>\n",
       "      <td>1</td>\n",
       "    </tr>\n",
       "    <tr>\n",
       "      <th>269</th>\n",
       "      <td>270</td>\n",
       "      <td>2019/08/02</td>\n",
       "      <td>11:06 AM</td>\n",
       "      <td>2</td>\n",
       "      <td>1</td>\n",
       "    </tr>\n",
       "    <tr>\n",
       "      <th>270</th>\n",
       "      <td>271</td>\n",
       "      <td>2019/08/02</td>\n",
       "      <td>04:17 PM</td>\n",
       "      <td>2</td>\n",
       "      <td>0</td>\n",
       "    </tr>\n",
       "    <tr>\n",
       "      <th>271</th>\n",
       "      <td>272</td>\n",
       "      <td>2019/08/02</td>\n",
       "      <td>07:01 PM</td>\n",
       "      <td>7</td>\n",
       "      <td>0</td>\n",
       "    </tr>\n",
       "    <tr>\n",
       "      <th>272</th>\n",
       "      <td>273</td>\n",
       "      <td>2019/08/05</td>\n",
       "      <td>09:55 AM</td>\n",
       "      <td>3</td>\n",
       "      <td>1</td>\n",
       "    </tr>\n",
       "    <tr>\n",
       "      <th>273</th>\n",
       "      <td>274</td>\n",
       "      <td>2019/08/05</td>\n",
       "      <td>10:08 AM</td>\n",
       "      <td>7</td>\n",
       "      <td>1</td>\n",
       "    </tr>\n",
       "  </tbody>\n",
       "</table>\n",
       "</div>"
      ],
      "text/plain": [
       "      ID        DATE      TIME USER_ID TYPE\n",
       "264  265  2019/08/01  09:52 AM       7    1\n",
       "265  266  2019/08/01  12:07 PM       4    1\n",
       "266  267  2019/08/01  06:45 PM       4    0\n",
       "267  268  2019/08/01  06:50 PM       7    0\n",
       "268  269  2019/08/02  10:01 AM       7    1\n",
       "269  270  2019/08/02  11:06 AM       2    1\n",
       "270  271  2019/08/02  04:17 PM       2    0\n",
       "271  272  2019/08/02  07:01 PM       7    0\n",
       "272  273  2019/08/05  09:55 AM       3    1\n",
       "273  274  2019/08/05  10:08 AM       7    1"
      ]
     },
     "execution_count": 50,
     "metadata": {},
     "output_type": "execute_result"
    }
   ],
   "source": [
    "df = pd.DataFrame(list_of_lists[1:], columns = list_of_lists[0])\n",
    "df = df[pd.to_datetime(df['DATE']).dt.month == 8]#datetime.today().month\n",
    "df.head(10)"
   ]
  },
  {
   "cell_type": "code",
   "execution_count": 51,
   "metadata": {
    "ExecuteTime": {
     "end_time": "2019-08-16T11:29:30.184452Z",
     "start_time": "2019-08-16T11:29:30.009931Z"
    }
   },
   "outputs": [
    {
     "data": {
      "text/plain": [
       "(90, 4)"
      ]
     },
     "execution_count": 51,
     "metadata": {},
     "output_type": "execute_result"
    }
   ],
   "source": [
    "df['TIME'] = pd.to_datetime(df['TIME']).values.astype(np.int64)\n",
    "df['DATE'] = pd.to_datetime(df['DATE']).dt.date\n",
    "df['USER_ID'] = df['USER_ID'].astype(int)\n",
    "df['TYPE'] = df['TYPE'].astype(int)\n",
    "df = df.set_index('ID')\n",
    "df.shape"
   ]
  },
  {
   "cell_type": "code",
   "execution_count": null,
   "metadata": {
    "ExecuteTime": {
     "end_time": "2019-08-14T15:35:33.781976Z",
     "start_time": "2019-08-14T15:35:33.756666Z"
    }
   },
   "outputs": [],
   "source": []
  },
  {
   "cell_type": "code",
   "execution_count": 52,
   "metadata": {
    "ExecuteTime": {
     "end_time": "2019-08-16T11:29:30.520147Z",
     "start_time": "2019-08-16T11:29:30.513428Z"
    }
   },
   "outputs": [],
   "source": [
    "df2 = pd.DataFrame(df.groupby(['USER_ID', 'TYPE'])['TIME'].mean())"
   ]
  },
  {
   "cell_type": "code",
   "execution_count": 53,
   "metadata": {
    "ExecuteTime": {
     "end_time": "2019-08-16T11:29:30.783096Z",
     "start_time": "2019-08-16T11:29:30.769775Z"
    }
   },
   "outputs": [
    {
     "data": {
      "text/html": [
       "<div>\n",
       "<style scoped>\n",
       "    .dataframe tbody tr th:only-of-type {\n",
       "        vertical-align: middle;\n",
       "    }\n",
       "\n",
       "    .dataframe tbody tr th {\n",
       "        vertical-align: top;\n",
       "    }\n",
       "\n",
       "    .dataframe thead th {\n",
       "        text-align: right;\n",
       "    }\n",
       "</style>\n",
       "<table border=\"1\" class=\"dataframe\">\n",
       "  <thead>\n",
       "    <tr style=\"text-align: right;\">\n",
       "      <th></th>\n",
       "      <th></th>\n",
       "      <th>TIME</th>\n",
       "      <th>INOUT</th>\n",
       "    </tr>\n",
       "    <tr>\n",
       "      <th>USER_ID</th>\n",
       "      <th>TYPE</th>\n",
       "      <th></th>\n",
       "      <th></th>\n",
       "    </tr>\n",
       "  </thead>\n",
       "  <tbody>\n",
       "    <tr>\n",
       "      <th rowspan=\"2\" valign=\"top\">1</th>\n",
       "      <th>0</th>\n",
       "      <td>1565985528000000000</td>\n",
       "      <td>19:58:48</td>\n",
       "    </tr>\n",
       "    <tr>\n",
       "      <th>1</th>\n",
       "      <td>1565961710000000000</td>\n",
       "      <td>13:21:50</td>\n",
       "    </tr>\n",
       "    <tr>\n",
       "      <th rowspan=\"2\" valign=\"top\">2</th>\n",
       "      <th>0</th>\n",
       "      <td>1565977608000000000</td>\n",
       "      <td>17:46:48</td>\n",
       "    </tr>\n",
       "    <tr>\n",
       "      <th>1</th>\n",
       "      <td>1565953014000000000</td>\n",
       "      <td>10:56:54</td>\n",
       "    </tr>\n",
       "    <tr>\n",
       "      <th rowspan=\"2\" valign=\"top\">3</th>\n",
       "      <th>0</th>\n",
       "      <td>1565986440000000000</td>\n",
       "      <td>20:14:00</td>\n",
       "    </tr>\n",
       "    <tr>\n",
       "      <th>1</th>\n",
       "      <td>1565951902500000000</td>\n",
       "      <td>10:38:22.500000</td>\n",
       "    </tr>\n",
       "    <tr>\n",
       "      <th rowspan=\"2\" valign=\"top\">4</th>\n",
       "      <th>0</th>\n",
       "      <td>1565982600000000000</td>\n",
       "      <td>19:10:00</td>\n",
       "    </tr>\n",
       "    <tr>\n",
       "      <th>1</th>\n",
       "      <td>1565960317500000000</td>\n",
       "      <td>12:58:37.500000</td>\n",
       "    </tr>\n",
       "    <tr>\n",
       "      <th rowspan=\"2\" valign=\"top\">7</th>\n",
       "      <th>0</th>\n",
       "      <td>1565982462000000000</td>\n",
       "      <td>19:07:42</td>\n",
       "    </tr>\n",
       "    <tr>\n",
       "      <th>1</th>\n",
       "      <td>1565948798181818112</td>\n",
       "      <td>09:46:38.181818</td>\n",
       "    </tr>\n",
       "    <tr>\n",
       "      <th rowspan=\"2\" valign=\"top\">8</th>\n",
       "      <th>0</th>\n",
       "      <td>1565980560000000000</td>\n",
       "      <td>18:36:00</td>\n",
       "    </tr>\n",
       "    <tr>\n",
       "      <th>1</th>\n",
       "      <td>1565948475000000000</td>\n",
       "      <td>09:41:15</td>\n",
       "    </tr>\n",
       "  </tbody>\n",
       "</table>\n",
       "</div>"
      ],
      "text/plain": [
       "                             TIME            INOUT\n",
       "USER_ID TYPE                                      \n",
       "1       0     1565985528000000000         19:58:48\n",
       "        1     1565961710000000000         13:21:50\n",
       "2       0     1565977608000000000         17:46:48\n",
       "        1     1565953014000000000         10:56:54\n",
       "3       0     1565986440000000000         20:14:00\n",
       "        1     1565951902500000000  10:38:22.500000\n",
       "4       0     1565982600000000000         19:10:00\n",
       "        1     1565960317500000000  12:58:37.500000\n",
       "7       0     1565982462000000000         19:07:42\n",
       "        1     1565948798181818112  09:46:38.181818\n",
       "8       0     1565980560000000000         18:36:00\n",
       "        1     1565948475000000000         09:41:15"
      ]
     },
     "execution_count": 53,
     "metadata": {},
     "output_type": "execute_result"
    }
   ],
   "source": [
    "df2['INOUT'] = pd.to_datetime(df2['TIME']).dt.time\n",
    "df2"
   ]
  },
  {
   "cell_type": "code",
   "execution_count": 54,
   "metadata": {
    "ExecuteTime": {
     "end_time": "2019-08-16T11:29:31.368177Z",
     "start_time": "2019-08-16T11:29:31.362254Z"
    }
   },
   "outputs": [],
   "source": [
    "df2 = df2.reset_index()"
   ]
  },
  {
   "cell_type": "code",
   "execution_count": 55,
   "metadata": {
    "ExecuteTime": {
     "end_time": "2019-08-16T11:29:31.933419Z",
     "start_time": "2019-08-16T11:29:31.921232Z"
    }
   },
   "outputs": [],
   "source": [
    "w_out = df2[df2['TYPE'] == 0].reset_index().drop([\"index\",\"TYPE\"], axis=1)\n",
    "w_in = df2[df2['TYPE'] == 1].reset_index().drop([\"index\",\"TYPE\"], axis=1)"
   ]
  },
  {
   "cell_type": "code",
   "execution_count": 56,
   "metadata": {
    "ExecuteTime": {
     "end_time": "2019-08-16T11:29:32.290291Z",
     "start_time": "2019-08-16T11:29:32.279619Z"
    }
   },
   "outputs": [
    {
     "data": {
      "text/html": [
       "<div>\n",
       "<style scoped>\n",
       "    .dataframe tbody tr th:only-of-type {\n",
       "        vertical-align: middle;\n",
       "    }\n",
       "\n",
       "    .dataframe tbody tr th {\n",
       "        vertical-align: top;\n",
       "    }\n",
       "\n",
       "    .dataframe thead th {\n",
       "        text-align: right;\n",
       "    }\n",
       "</style>\n",
       "<table border=\"1\" class=\"dataframe\">\n",
       "  <thead>\n",
       "    <tr style=\"text-align: right;\">\n",
       "      <th></th>\n",
       "      <th>USER_ID</th>\n",
       "      <th>TIME</th>\n",
       "      <th>INOUT</th>\n",
       "    </tr>\n",
       "  </thead>\n",
       "  <tbody>\n",
       "    <tr>\n",
       "      <th>0</th>\n",
       "      <td>1</td>\n",
       "      <td>23818000000000</td>\n",
       "      <td>19:58:48</td>\n",
       "    </tr>\n",
       "    <tr>\n",
       "      <th>1</th>\n",
       "      <td>2</td>\n",
       "      <td>24594000000000</td>\n",
       "      <td>17:46:48</td>\n",
       "    </tr>\n",
       "    <tr>\n",
       "      <th>2</th>\n",
       "      <td>3</td>\n",
       "      <td>34537500000000</td>\n",
       "      <td>20:14:00</td>\n",
       "    </tr>\n",
       "    <tr>\n",
       "      <th>3</th>\n",
       "      <td>4</td>\n",
       "      <td>22282500000000</td>\n",
       "      <td>19:10:00</td>\n",
       "    </tr>\n",
       "    <tr>\n",
       "      <th>4</th>\n",
       "      <td>7</td>\n",
       "      <td>33663818181888</td>\n",
       "      <td>19:07:42</td>\n",
       "    </tr>\n",
       "    <tr>\n",
       "      <th>5</th>\n",
       "      <td>8</td>\n",
       "      <td>32085000000000</td>\n",
       "      <td>18:36:00</td>\n",
       "    </tr>\n",
       "  </tbody>\n",
       "</table>\n",
       "</div>"
      ],
      "text/plain": [
       "   USER_ID            TIME     INOUT\n",
       "0        1  23818000000000  19:58:48\n",
       "1        2  24594000000000  17:46:48\n",
       "2        3  34537500000000  20:14:00\n",
       "3        4  22282500000000  19:10:00\n",
       "4        7  33663818181888  19:07:42\n",
       "5        8  32085000000000  18:36:00"
      ]
     },
     "execution_count": 56,
     "metadata": {},
     "output_type": "execute_result"
    }
   ],
   "source": [
    "w_total = w_out.copy()\n",
    "w_total['TIME'] = w_out['TIME'] - w_in['TIME']\n",
    "w_total"
   ]
  },
  {
   "cell_type": "code",
   "execution_count": 57,
   "metadata": {
    "ExecuteTime": {
     "end_time": "2019-08-16T11:29:32.782753Z",
     "start_time": "2019-08-16T11:29:32.777396Z"
    }
   },
   "outputs": [],
   "source": [
    "w_total['TIME'] = pd.to_datetime(w_total['TIME']).dt.time"
   ]
  },
  {
   "cell_type": "code",
   "execution_count": 58,
   "metadata": {
    "ExecuteTime": {
     "end_time": "2019-08-16T11:29:33.914413Z",
     "start_time": "2019-08-16T11:29:33.905740Z"
    }
   },
   "outputs": [
    {
     "data": {
      "text/html": [
       "<div>\n",
       "<style scoped>\n",
       "    .dataframe tbody tr th:only-of-type {\n",
       "        vertical-align: middle;\n",
       "    }\n",
       "\n",
       "    .dataframe tbody tr th {\n",
       "        vertical-align: top;\n",
       "    }\n",
       "\n",
       "    .dataframe thead th {\n",
       "        text-align: right;\n",
       "    }\n",
       "</style>\n",
       "<table border=\"1\" class=\"dataframe\">\n",
       "  <thead>\n",
       "    <tr style=\"text-align: right;\">\n",
       "      <th></th>\n",
       "      <th>USER_ID</th>\n",
       "      <th>TIME</th>\n",
       "      <th>INOUT</th>\n",
       "    </tr>\n",
       "  </thead>\n",
       "  <tbody>\n",
       "    <tr>\n",
       "      <th>0</th>\n",
       "      <td>1</td>\n",
       "      <td>06:36:58</td>\n",
       "      <td>19:58:48</td>\n",
       "    </tr>\n",
       "    <tr>\n",
       "      <th>1</th>\n",
       "      <td>2</td>\n",
       "      <td>06:49:54</td>\n",
       "      <td>17:46:48</td>\n",
       "    </tr>\n",
       "    <tr>\n",
       "      <th>2</th>\n",
       "      <td>3</td>\n",
       "      <td>09:35:37.500000</td>\n",
       "      <td>20:14:00</td>\n",
       "    </tr>\n",
       "    <tr>\n",
       "      <th>3</th>\n",
       "      <td>4</td>\n",
       "      <td>06:11:22.500000</td>\n",
       "      <td>19:10:00</td>\n",
       "    </tr>\n",
       "    <tr>\n",
       "      <th>4</th>\n",
       "      <td>7</td>\n",
       "      <td>09:21:03.818181</td>\n",
       "      <td>19:07:42</td>\n",
       "    </tr>\n",
       "    <tr>\n",
       "      <th>5</th>\n",
       "      <td>8</td>\n",
       "      <td>08:54:45</td>\n",
       "      <td>18:36:00</td>\n",
       "    </tr>\n",
       "  </tbody>\n",
       "</table>\n",
       "</div>"
      ],
      "text/plain": [
       "   USER_ID             TIME     INOUT\n",
       "0        1         06:36:58  19:58:48\n",
       "1        2         06:49:54  17:46:48\n",
       "2        3  09:35:37.500000  20:14:00\n",
       "3        4  06:11:22.500000  19:10:00\n",
       "4        7  09:21:03.818181  19:07:42\n",
       "5        8         08:54:45  18:36:00"
      ]
     },
     "execution_count": 58,
     "metadata": {},
     "output_type": "execute_result"
    }
   ],
   "source": [
    "w_total"
   ]
  },
  {
   "cell_type": "code",
   "execution_count": 59,
   "metadata": {
    "ExecuteTime": {
     "end_time": "2019-08-16T11:29:34.836223Z",
     "start_time": "2019-08-16T11:29:34.829250Z"
    }
   },
   "outputs": [
    {
     "data": {
      "text/plain": [
       "'06:36:58'"
      ]
     },
     "execution_count": 59,
     "metadata": {},
     "output_type": "execute_result"
    }
   ],
   "source": [
    "w_total[w_total['USER_ID'] == 1]['TIME'].values[0].strftime(\"%H:%M:%S\")"
   ]
  },
  {
   "cell_type": "code",
   "execution_count": 60,
   "metadata": {
    "ExecuteTime": {
     "end_time": "2019-08-16T11:29:35.223323Z",
     "start_time": "2019-08-16T11:29:35.218147Z"
    }
   },
   "outputs": [],
   "source": [
    "import numpy as np\n",
    "import pandas as pd\n",
    "import matplotlib.pyplot as plt\n",
    "import seaborn as sb\n",
    "%matplotlib inline"
   ]
  },
  {
   "cell_type": "code",
   "execution_count": 61,
   "metadata": {
    "ExecuteTime": {
     "end_time": "2019-08-16T11:29:36.149637Z",
     "start_time": "2019-08-16T11:29:35.917160Z"
    }
   },
   "outputs": [
    {
     "data": {
      "image/png": "[encoded data removed]",
      "text/plain": [
       "<Figure size 432x288 with 1 Axes>"
      ]
     },
     "metadata": {
      "needs_background": "light"
     },
     "output_type": "display_data"
    }
   ],
   "source": [
    "base_color = sb.color_palette()[0]\n",
    "sb.scatterplot(data = w_total, y = 'TIME', x='USER_ID', color = base_color);"
   ]
  },
  {
   "cell_type": "code",
   "execution_count": 17,
   "metadata": {
    "ExecuteTime": {
     "end_time": "2019-08-26T05:52:09.172455Z",
     "start_time": "2019-08-26T05:52:09.161987Z"
    }
   },
   "outputs": [],
   "source": [
    "def get_user_key(approve=True, check_is_in=False, isw='out'):\n",
    "    client = get_client()\n",
    "    sheet = client.open('userCheckin').worksheet('userStatus')\n",
    "    user_id = sheet.col_values(2)[1:]\n",
    "    is_approve = sheet.col_values(6)[1:]\n",
    "    is_in = sheet.col_values(4)[1:]\n",
    "    is_in = [int(i) for i in is_in]\n",
    "    is_approve = [1 if i == 'APPROVE' else 0 for i in is_approve]\n",
    "    approve_mem = [id for id, i in zip(user_id, is_approve) if i == 1]\n",
    "\n",
    "    if approve is False:\n",
    "        print('1')\n",
    "        return user_id\n",
    "    else:\n",
    "        if check_is_in:\n",
    "            if isw == 'out':\n",
    "                out_mem = [id for id, i in zip(user_id, is_in) if i == 0]\n",
    "                print('2')\n",
    "                return out_mem\n",
    "            if isw == 'in':\n",
    "                in_mem = [id for id, i in zip(user_id, is_in) if i == 1]\n",
    "                print('3')\n",
    "                return in_mem\n",
    "            print('4')\n",
    "        return approve_mem"
   ]
  },
  {
   "cell_type": "code",
   "execution_count": 21,
   "metadata": {
    "ExecuteTime": {
     "end_time": "2019-08-26T05:53:27.456207Z",
     "start_time": "2019-08-26T05:53:24.865231Z"
    }
   },
   "outputs": [
    {
     "name": "stdout",
     "output_type": "stream",
     "text": [
      "3\n"
     ]
    },
    {
     "data": {
      "text/plain": [
       "['U7612d77bbca83f04d6acf5e27333edeb',\n",
       " 'U262184d96cc22dfb837493e3ff6ca85a',\n",
       " 'Ub4cd6bb2dc9548dd416a35e5b7488c09',\n",
       " 'Ube7c6d3358f6994218ffb623d4d8a06e',\n",
       " 'U5ac4ec185e02185b6eae0d54d56f7d10']"
      ]
     },
     "execution_count": 21,
     "metadata": {},
     "output_type": "execute_result"
    }
   ],
   "source": [
    "get_user_key(check_is_in=True, isw='in')"
   ]
  },
  {
   "cell_type": "code",
   "execution_count": 19,
   "metadata": {
    "ExecuteTime": {
     "end_time": "2019-08-26T05:52:16.307324Z",
     "start_time": "2019-08-26T05:52:13.146279Z"
    }
   },
   "outputs": [
    {
     "name": "stdout",
     "output_type": "stream",
     "text": [
      "U7612d77bbca83f04d6acf5e27333edeb\n",
      "U262184d96cc22dfb837493e3ff6ca85a\n",
      "U03fe1d43c072db5c3dde2f2a20fddcb9\n",
      "Ub4cd6bb2dc9548dd416a35e5b7488c09\n",
      "Ube7c6d3358f6994218ffb623d4d8a06e\n",
      "U5ac4ec185e02185b6eae0d54d56f7d10\n"
     ]
    }
   ],
   "source": [
    "for i in get_user_key():\n",
    "    print(i)"
   ]
  },
  {
   "cell_type": "code",
   "execution_count": 17,
   "metadata": {
    "ExecuteTime": {
     "end_time": "2019-08-19T11:39:42.883027Z",
     "start_time": "2019-08-19T11:39:42.878784Z"
    }
   },
   "outputs": [
    {
     "data": {
      "text/plain": [
       "True"
      ]
     },
     "execution_count": 17,
     "metadata": {},
     "output_type": "execute_result"
    }
   ],
   "source": [
    "'!ct sfasfasfad'.startswith('!ct ')"
   ]
  },
  {
   "cell_type": "code",
   "execution_count": 19,
   "metadata": {
    "ExecuteTime": {
     "end_time": "2019-09-04T05:55:26.852797Z",
     "start_time": "2019-09-04T05:55:23.538512Z"
    }
   },
   "outputs": [],
   "source": [
    "client = get_client()\n",
    "sheet = client.open('userCheckin').worksheet('userStatus')\n",
    "user_id = sheet.col_values(2)[1:]\n",
    "user_name = sheet.col_values(3)[1:]\n",
    "is_in = sheet.col_values(4)[1:]\n",
    "is_inR = [u for i, u in zip(is_in, user_id) if i == '1']\n",
    "user_in = [y for i, y in zip(is_in, user_name) if i == '1']\n"
   ]
  },
  {
   "cell_type": "code",
   "execution_count": 21,
   "metadata": {
    "ExecuteTime": {
     "end_time": "2019-09-04T05:55:36.971579Z",
     "start_time": "2019-09-04T05:55:36.967113Z"
    }
   },
   "outputs": [
    {
     "data": {
      "text/plain": [
       "['TAAN', 'SNOOK', 'TOEY', 'NUT', 'JOEY']"
      ]
     },
     "execution_count": 21,
     "metadata": {},
     "output_type": "execute_result"
    }
   ],
   "source": [
    "user_in"
   ]
  },
  {
   "cell_type": "code",
   "execution_count": 18,
   "metadata": {
    "ExecuteTime": {
     "end_time": "2019-09-04T05:53:17.678548Z",
     "start_time": "2019-09-04T05:53:17.674870Z"
    }
   },
   "outputs": [
    {
     "name": "stdout",
     "output_type": "stream",
     "text": [
      "U262184d96cc22dfb837493e3ff6ca85a BEST\n",
      "U03fe1d43c072db5c3dde2f2a20fddcb9 TAAN\n",
      "Ube7c6d3358f6994218ffb623d4d8a06e SNOOK\n",
      "U5ac4ec185e02185b6eae0d54d56f7d10 TEAM\n",
      "U99cc103c604322964f2d16dd8cb52d8c BAM\n"
     ]
    }
   ],
   "source": [
    "for i, v in zip(is_in, user_name):\n",
    "    print(i, v)"
   ]
  },
  {
   "cell_type": "code",
   "execution_count": null,
   "metadata": {},
   "outputs": [],
   "source": []
  }
 ],
 "metadata": {
  "kernelspec": {
   "display_name": "Python 3",
   "language": "python",
   "name": "python3"
  },
  "language_info": {
   "codemirror_mode": {
    "name": "ipython",
    "version": 3
   },
   "file_extension": ".py",
   "mimetype": "text/x-python",
   "name": "python",
   "nbconvert_exporter": "python",
   "pygments_lexer": "ipython3",
   "version": "3.7.4"
  }
 },
 "nbformat": 4,
 "nbformat_minor": 2
}
