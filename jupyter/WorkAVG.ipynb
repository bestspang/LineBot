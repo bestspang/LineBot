{
 "cells": [
  {
   "cell_type": "code",
   "execution_count": 1,
   "metadata": {
    "ExecuteTime": {
     "end_time": "2019-09-09T04:54:46.594254Z",
     "start_time": "2019-09-09T04:54:45.775865Z"
    }
   },
   "outputs": [],
   "source": [
    "from oauth2client.service_account import ServiceAccountCredentials\n",
    "import gspread, pprint\n",
    "import pandas as pd\n",
    "import numpy as np\n",
    "from datetime import datetime"
   ]
  },
  {
   "cell_type": "code",
   "execution_count": 2,
   "metadata": {
    "ExecuteTime": {
     "end_time": "2019-09-09T04:54:52.306468Z",
     "start_time": "2019-09-09T04:54:52.101664Z"
    }
   },
   "outputs": [],
   "source": [
    "scope = ['https://spreadsheets.google.com/feeds','https://www.googleapis.com/auth/drive']\n",
    "creds = ServiceAccountCredentials.from_json_keyfile_name('bplinebot-3ccea59ad6d6.json', scope)\n",
    "client = gspread.authorize(creds)\n",
    "pp = pprint.PrettyPrinter()\n",
    "def get_client():\n",
    "    scope = ['https://spreadsheets.google.com/feeds','https://www.googleapis.com/auth/drive']\n",
    "    creds = ServiceAccountCredentials.from_json_keyfile_name('bplinebot-3ccea59ad6d6.json', scope)\n",
    "    client = gspread.authorize(creds)\n",
    "    return client"
   ]
  },
  {
   "cell_type": "code",
   "execution_count": 16,
   "metadata": {
    "ExecuteTime": {
     "end_time": "2019-09-09T04:57:46.128521Z",
     "start_time": "2019-09-09T04:57:45.575354Z"
    }
   },
   "outputs": [],
   "source": [
    "#sheet = client.open('AbbokIncomeAssesmentV03').get_worksheet(2)\n",
    "spread = client.open('userCheckin')"
   ]
  },
  {
   "cell_type": "code",
   "execution_count": 17,
   "metadata": {
    "ExecuteTime": {
     "end_time": "2019-09-09T04:57:46.794785Z",
     "start_time": "2019-09-09T04:57:46.131929Z"
    }
   },
   "outputs": [],
   "source": [
    "sheet = spread.worksheet('log')"
   ]
  },
  {
   "cell_type": "code",
   "execution_count": 18,
   "metadata": {
    "ExecuteTime": {
     "end_time": "2019-09-09T04:57:47.211684Z",
     "start_time": "2019-09-09T04:57:46.799453Z"
    }
   },
   "outputs": [],
   "source": [
    "list_of_lists = sheet.get_all_values()"
   ]
  },
  {
   "cell_type": "code",
   "execution_count": 30,
   "metadata": {
    "ExecuteTime": {
     "end_time": "2019-09-09T05:04:20.737020Z",
     "start_time": "2019-09-09T05:04:20.721865Z"
    }
   },
   "outputs": [
    {
     "data": {
      "text/html": [
       "<div>\n",
       "<style scoped>\n",
       "    .dataframe tbody tr th:only-of-type {\n",
       "        vertical-align: middle;\n",
       "    }\n",
       "\n",
       "    .dataframe tbody tr th {\n",
       "        vertical-align: top;\n",
       "    }\n",
       "\n",
       "    .dataframe thead th {\n",
       "        text-align: right;\n",
       "    }\n",
       "</style>\n",
       "<table border=\"1\" class=\"dataframe\">\n",
       "  <thead>\n",
       "    <tr style=\"text-align: right;\">\n",
       "      <th></th>\n",
       "      <th>ID</th>\n",
       "      <th>DATE</th>\n",
       "      <th>TIME</th>\n",
       "      <th>USER_ID</th>\n",
       "      <th>TYPE</th>\n",
       "    </tr>\n",
       "  </thead>\n",
       "  <tbody>\n",
       "    <tr>\n",
       "      <th>438</th>\n",
       "      <td>439</td>\n",
       "      <td>2019/09/02</td>\n",
       "      <td>09:29 AM</td>\n",
       "      <td>2</td>\n",
       "      <td>1</td>\n",
       "    </tr>\n",
       "    <tr>\n",
       "      <th>439</th>\n",
       "      <td>440</td>\n",
       "      <td>2019/09/02</td>\n",
       "      <td>09:41 AM</td>\n",
       "      <td>3</td>\n",
       "      <td>1</td>\n",
       "    </tr>\n",
       "    <tr>\n",
       "      <th>440</th>\n",
       "      <td>441</td>\n",
       "      <td>2019/09/02</td>\n",
       "      <td>09:42 AM</td>\n",
       "      <td>7</td>\n",
       "      <td>1</td>\n",
       "    </tr>\n",
       "    <tr>\n",
       "      <th>441</th>\n",
       "      <td>442</td>\n",
       "      <td>2019/09/02</td>\n",
       "      <td>10:24 AM</td>\n",
       "      <td>8</td>\n",
       "      <td>1</td>\n",
       "    </tr>\n",
       "    <tr>\n",
       "      <th>442</th>\n",
       "      <td>443</td>\n",
       "      <td>2019/09/02</td>\n",
       "      <td>12:20 PM</td>\n",
       "      <td>1</td>\n",
       "      <td>1</td>\n",
       "    </tr>\n",
       "  </tbody>\n",
       "</table>\n",
       "</div>"
      ],
      "text/plain": [
       "      ID        DATE      TIME USER_ID TYPE\n",
       "438  439  2019/09/02  09:29 AM       2    1\n",
       "439  440  2019/09/02  09:41 AM       3    1\n",
       "440  441  2019/09/02  09:42 AM       7    1\n",
       "441  442  2019/09/02  10:24 AM       8    1\n",
       "442  443  2019/09/02  12:20 PM       1    1"
      ]
     },
     "execution_count": 30,
     "metadata": {},
     "output_type": "execute_result"
    }
   ],
   "source": [
    "df = pd.DataFrame(list_of_lists[1:], columns = list_of_lists[0])\n",
    "df = df[pd.to_datetime(df['DATE']).dt.month == datetime.today().month]#datetime.today().month\n",
    "df.head(5)"
   ]
  },
  {
   "cell_type": "code",
   "execution_count": 31,
   "metadata": {
    "ExecuteTime": {
     "end_time": "2019-09-09T05:04:38.638939Z",
     "start_time": "2019-09-09T05:04:38.225004Z"
    }
   },
   "outputs": [
    {
     "data": {
      "text/plain": [
       "(88, 4)"
      ]
     },
     "execution_count": 31,
     "metadata": {},
     "output_type": "execute_result"
    }
   ],
   "source": [
    "df['TIME'] = pd.to_datetime(df['TIME']).values.astype(np.int64)\n",
    "df['DATE'] = pd.to_datetime(df['DATE']).dt.date\n",
    "df['USER_ID'] = df['USER_ID'].astype(int)\n",
    "df['TYPE'] = df['TYPE'].astype(int)\n",
    "df = df.set_index('ID')\n",
    "df.shape"
   ]
  },
  {
   "cell_type": "code",
   "execution_count": 32,
   "metadata": {
    "ExecuteTime": {
     "end_time": "2019-09-09T05:04:42.553338Z",
     "start_time": "2019-09-09T05:04:42.547681Z"
    }
   },
   "outputs": [],
   "source": [
    "df2 = pd.DataFrame(df.groupby(['USER_ID', 'TYPE'])['TIME'].mean())"
   ]
  },
  {
   "cell_type": "code",
   "execution_count": 33,
   "metadata": {
    "ExecuteTime": {
     "end_time": "2019-09-09T05:04:43.281919Z",
     "start_time": "2019-09-09T05:04:43.269355Z"
    }
   },
   "outputs": [
    {
     "data": {
      "text/html": [
       "<div>\n",
       "<style scoped>\n",
       "    .dataframe tbody tr th:only-of-type {\n",
       "        vertical-align: middle;\n",
       "    }\n",
       "\n",
       "    .dataframe tbody tr th {\n",
       "        vertical-align: top;\n",
       "    }\n",
       "\n",
       "    .dataframe thead th {\n",
       "        text-align: right;\n",
       "    }\n",
       "</style>\n",
       "<table border=\"1\" class=\"dataframe\">\n",
       "  <thead>\n",
       "    <tr style=\"text-align: right;\">\n",
       "      <th></th>\n",
       "      <th></th>\n",
       "      <th>TIME</th>\n",
       "      <th>INOUT</th>\n",
       "    </tr>\n",
       "    <tr>\n",
       "      <th>USER_ID</th>\n",
       "      <th>TYPE</th>\n",
       "      <th></th>\n",
       "      <th></th>\n",
       "    </tr>\n",
       "  </thead>\n",
       "  <tbody>\n",
       "    <tr>\n",
       "      <th rowspan=\"2\" valign=\"top\">1</th>\n",
       "      <th>0</th>\n",
       "      <td>1568055080000000000</td>\n",
       "      <td>18:51:20</td>\n",
       "    </tr>\n",
       "    <tr>\n",
       "      <th>1</th>\n",
       "      <td>1568040984000000000</td>\n",
       "      <td>14:56:24</td>\n",
       "    </tr>\n",
       "    <tr>\n",
       "      <th rowspan=\"2\" valign=\"top\">2</th>\n",
       "      <th>0</th>\n",
       "      <td>1568037612000000000</td>\n",
       "      <td>14:00:12</td>\n",
       "    </tr>\n",
       "    <tr>\n",
       "      <th>1</th>\n",
       "      <td>1568022500000000000</td>\n",
       "      <td>09:48:20</td>\n",
       "    </tr>\n",
       "    <tr>\n",
       "      <th rowspan=\"2\" valign=\"top\">3</th>\n",
       "      <th>0</th>\n",
       "      <td>1568042920000000000</td>\n",
       "      <td>15:28:40</td>\n",
       "    </tr>\n",
       "    <tr>\n",
       "      <th>1</th>\n",
       "      <td>1568034918000000000</td>\n",
       "      <td>13:15:18</td>\n",
       "    </tr>\n",
       "    <tr>\n",
       "      <th rowspan=\"2\" valign=\"top\">4</th>\n",
       "      <th>0</th>\n",
       "      <td>1568060140000000000</td>\n",
       "      <td>20:15:40</td>\n",
       "    </tr>\n",
       "    <tr>\n",
       "      <th>1</th>\n",
       "      <td>1568019380000000000</td>\n",
       "      <td>08:56:20</td>\n",
       "    </tr>\n",
       "    <tr>\n",
       "      <th rowspan=\"2\" valign=\"top\">7</th>\n",
       "      <th>0</th>\n",
       "      <td>1568052168000000000</td>\n",
       "      <td>18:02:48</td>\n",
       "    </tr>\n",
       "    <tr>\n",
       "      <th>1</th>\n",
       "      <td>1568022490000000000</td>\n",
       "      <td>09:48:10</td>\n",
       "    </tr>\n",
       "    <tr>\n",
       "      <th rowspan=\"2\" valign=\"top\">8</th>\n",
       "      <th>0</th>\n",
       "      <td>1568051290000000000</td>\n",
       "      <td>17:48:10</td>\n",
       "    </tr>\n",
       "    <tr>\n",
       "      <th>1</th>\n",
       "      <td>1568023671428571392</td>\n",
       "      <td>10:07:51.428571</td>\n",
       "    </tr>\n",
       "    <tr>\n",
       "      <th rowspan=\"2\" valign=\"top\">9</th>\n",
       "      <th>0</th>\n",
       "      <td>1568060835000000000</td>\n",
       "      <td>20:27:15</td>\n",
       "    </tr>\n",
       "    <tr>\n",
       "      <th>1</th>\n",
       "      <td>1568022936000000000</td>\n",
       "      <td>09:55:36</td>\n",
       "    </tr>\n",
       "  </tbody>\n",
       "</table>\n",
       "</div>"
      ],
      "text/plain": [
       "                             TIME            INOUT\n",
       "USER_ID TYPE                                      \n",
       "1       0     1568055080000000000         18:51:20\n",
       "        1     1568040984000000000         14:56:24\n",
       "2       0     1568037612000000000         14:00:12\n",
       "        1     1568022500000000000         09:48:20\n",
       "3       0     1568042920000000000         15:28:40\n",
       "        1     1568034918000000000         13:15:18\n",
       "4       0     1568060140000000000         20:15:40\n",
       "        1     1568019380000000000         08:56:20\n",
       "7       0     1568052168000000000         18:02:48\n",
       "        1     1568022490000000000         09:48:10\n",
       "8       0     1568051290000000000         17:48:10\n",
       "        1     1568023671428571392  10:07:51.428571\n",
       "9       0     1568060835000000000         20:27:15\n",
       "        1     1568022936000000000         09:55:36"
      ]
     },
     "execution_count": 33,
     "metadata": {},
     "output_type": "execute_result"
    }
   ],
   "source": [
    "df2['INOUT'] = pd.to_datetime(df2['TIME']).dt.time\n",
    "df2"
   ]
  },
  {
   "cell_type": "code",
   "execution_count": 24,
   "metadata": {
    "ExecuteTime": {
     "end_time": "2019-09-09T04:57:56.150900Z",
     "start_time": "2019-09-09T04:57:56.141612Z"
    }
   },
   "outputs": [],
   "source": [
    "df2 = df2.reset_index()"
   ]
  },
  {
   "cell_type": "code",
   "execution_count": 25,
   "metadata": {
    "ExecuteTime": {
     "end_time": "2019-09-09T04:57:56.675132Z",
     "start_time": "2019-09-09T04:57:56.664264Z"
    }
   },
   "outputs": [],
   "source": [
    "w_out = df2[df2['TYPE'] == 0].reset_index().drop([\"index\",\"TYPE\"], axis=1)\n",
    "w_in = df2[df2['TYPE'] == 1].reset_index().drop([\"index\",\"TYPE\"], axis=1)"
   ]
  },
  {
   "cell_type": "code",
   "execution_count": 26,
   "metadata": {
    "ExecuteTime": {
     "end_time": "2019-09-09T04:57:57.490346Z",
     "start_time": "2019-09-09T04:57:57.473295Z"
    }
   },
   "outputs": [
    {
     "data": {
      "text/html": [
       "<div>\n",
       "<style scoped>\n",
       "    .dataframe tbody tr th:only-of-type {\n",
       "        vertical-align: middle;\n",
       "    }\n",
       "\n",
       "    .dataframe tbody tr th {\n",
       "        vertical-align: top;\n",
       "    }\n",
       "\n",
       "    .dataframe thead th {\n",
       "        text-align: right;\n",
       "    }\n",
       "</style>\n",
       "<table border=\"1\" class=\"dataframe\">\n",
       "  <thead>\n",
       "    <tr style=\"text-align: right;\">\n",
       "      <th></th>\n",
       "      <th>USER_ID</th>\n",
       "      <th>TIME</th>\n",
       "      <th>INOUT</th>\n",
       "    </tr>\n",
       "  </thead>\n",
       "  <tbody>\n",
       "    <tr>\n",
       "      <th>0</th>\n",
       "      <td>1</td>\n",
       "      <td>14096000000000</td>\n",
       "      <td>18:51:20</td>\n",
       "    </tr>\n",
       "    <tr>\n",
       "      <th>1</th>\n",
       "      <td>2</td>\n",
       "      <td>15112000000000</td>\n",
       "      <td>14:00:12</td>\n",
       "    </tr>\n",
       "    <tr>\n",
       "      <th>2</th>\n",
       "      <td>3</td>\n",
       "      <td>8002000000000</td>\n",
       "      <td>15:28:40</td>\n",
       "    </tr>\n",
       "    <tr>\n",
       "      <th>3</th>\n",
       "      <td>4</td>\n",
       "      <td>40760000000000</td>\n",
       "      <td>20:15:40</td>\n",
       "    </tr>\n",
       "    <tr>\n",
       "      <th>4</th>\n",
       "      <td>7</td>\n",
       "      <td>29678000000000</td>\n",
       "      <td>18:02:48</td>\n",
       "    </tr>\n",
       "    <tr>\n",
       "      <th>5</th>\n",
       "      <td>8</td>\n",
       "      <td>27618571428608</td>\n",
       "      <td>17:48:10</td>\n",
       "    </tr>\n",
       "    <tr>\n",
       "      <th>6</th>\n",
       "      <td>9</td>\n",
       "      <td>37899000000000</td>\n",
       "      <td>20:27:15</td>\n",
       "    </tr>\n",
       "  </tbody>\n",
       "</table>\n",
       "</div>"
      ],
      "text/plain": [
       "   USER_ID            TIME     INOUT\n",
       "0        1  14096000000000  18:51:20\n",
       "1        2  15112000000000  14:00:12\n",
       "2        3   8002000000000  15:28:40\n",
       "3        4  40760000000000  20:15:40\n",
       "4        7  29678000000000  18:02:48\n",
       "5        8  27618571428608  17:48:10\n",
       "6        9  37899000000000  20:27:15"
      ]
     },
     "execution_count": 26,
     "metadata": {},
     "output_type": "execute_result"
    }
   ],
   "source": [
    "w_total = w_out.copy()\n",
    "w_total['TIME'] = w_out['TIME'] - w_in['TIME']\n",
    "w_total"
   ]
  },
  {
   "cell_type": "code",
   "execution_count": 27,
   "metadata": {
    "ExecuteTime": {
     "end_time": "2019-09-09T04:57:57.942483Z",
     "start_time": "2019-09-09T04:57:57.934284Z"
    }
   },
   "outputs": [],
   "source": [
    "w_total['TIME'] = pd.to_datetime(w_total['TIME']).dt.time"
   ]
  },
  {
   "cell_type": "code",
   "execution_count": 28,
   "metadata": {
    "ExecuteTime": {
     "end_time": "2019-09-09T04:57:59.334868Z",
     "start_time": "2019-09-09T04:57:59.322072Z"
    }
   },
   "outputs": [
    {
     "data": {
      "text/html": [
       "<div>\n",
       "<style scoped>\n",
       "    .dataframe tbody tr th:only-of-type {\n",
       "        vertical-align: middle;\n",
       "    }\n",
       "\n",
       "    .dataframe tbody tr th {\n",
       "        vertical-align: top;\n",
       "    }\n",
       "\n",
       "    .dataframe thead th {\n",
       "        text-align: right;\n",
       "    }\n",
       "</style>\n",
       "<table border=\"1\" class=\"dataframe\">\n",
       "  <thead>\n",
       "    <tr style=\"text-align: right;\">\n",
       "      <th></th>\n",
       "      <th>USER_ID</th>\n",
       "      <th>TIME</th>\n",
       "      <th>INOUT</th>\n",
       "    </tr>\n",
       "  </thead>\n",
       "  <tbody>\n",
       "    <tr>\n",
       "      <th>0</th>\n",
       "      <td>1</td>\n",
       "      <td>03:54:56</td>\n",
       "      <td>18:51:20</td>\n",
       "    </tr>\n",
       "    <tr>\n",
       "      <th>1</th>\n",
       "      <td>2</td>\n",
       "      <td>04:11:52</td>\n",
       "      <td>14:00:12</td>\n",
       "    </tr>\n",
       "    <tr>\n",
       "      <th>2</th>\n",
       "      <td>3</td>\n",
       "      <td>02:13:22</td>\n",
       "      <td>15:28:40</td>\n",
       "    </tr>\n",
       "    <tr>\n",
       "      <th>3</th>\n",
       "      <td>4</td>\n",
       "      <td>11:19:20</td>\n",
       "      <td>20:15:40</td>\n",
       "    </tr>\n",
       "    <tr>\n",
       "      <th>4</th>\n",
       "      <td>7</td>\n",
       "      <td>08:14:38</td>\n",
       "      <td>18:02:48</td>\n",
       "    </tr>\n",
       "    <tr>\n",
       "      <th>5</th>\n",
       "      <td>8</td>\n",
       "      <td>07:40:18.571428</td>\n",
       "      <td>17:48:10</td>\n",
       "    </tr>\n",
       "    <tr>\n",
       "      <th>6</th>\n",
       "      <td>9</td>\n",
       "      <td>10:31:39</td>\n",
       "      <td>20:27:15</td>\n",
       "    </tr>\n",
       "  </tbody>\n",
       "</table>\n",
       "</div>"
      ],
      "text/plain": [
       "   USER_ID             TIME     INOUT\n",
       "0        1         03:54:56  18:51:20\n",
       "1        2         04:11:52  14:00:12\n",
       "2        3         02:13:22  15:28:40\n",
       "3        4         11:19:20  20:15:40\n",
       "4        7         08:14:38  18:02:48\n",
       "5        8  07:40:18.571428  17:48:10\n",
       "6        9         10:31:39  20:27:15"
      ]
     },
     "execution_count": 28,
     "metadata": {},
     "output_type": "execute_result"
    }
   ],
   "source": [
    "w_total"
   ]
  },
  {
   "cell_type": "code",
   "execution_count": 29,
   "metadata": {
    "ExecuteTime": {
     "end_time": "2019-09-09T04:58:02.323601Z",
     "start_time": "2019-09-09T04:58:02.316464Z"
    }
   },
   "outputs": [
    {
     "data": {
      "text/plain": [
       "'03:54:56'"
      ]
     },
     "execution_count": 29,
     "metadata": {},
     "output_type": "execute_result"
    }
   ],
   "source": [
    "w_total[w_total['USER_ID'] == 1]['TIME'].values[0].strftime(\"%H:%M:%S\")"
   ]
  },
  {
   "cell_type": "code",
   "execution_count": null,
   "metadata": {},
   "outputs": [],
   "source": []
  }
 ],
 "metadata": {
  "kernelspec": {
   "display_name": "Python 3",
   "language": "python",
   "name": "python3"
  },
  "language_info": {
   "codemirror_mode": {
    "name": "ipython",
    "version": 3
   },
   "file_extension": ".py",
   "mimetype": "text/x-python",
   "name": "python",
   "nbconvert_exporter": "python",
   "pygments_lexer": "ipython3",
   "version": "3.7.4"
  }
 },
 "nbformat": 4,
 "nbformat_minor": 2
}
